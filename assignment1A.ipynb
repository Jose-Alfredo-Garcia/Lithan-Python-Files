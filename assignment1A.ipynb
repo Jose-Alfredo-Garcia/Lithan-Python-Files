{
  "nbformat": 4,
  "nbformat_minor": 0,
  "metadata": {
    "colab": {
      "provenance": [],
      "authorship_tag": "ABX9TyOzuHEEESvbpY+dSxwxBheJ",
      "include_colab_link": true
    },
    "kernelspec": {
      "name": "python3",
      "display_name": "Python 3"
    },
    "language_info": {
      "name": "python"
    }
  },
  "cells": [
    {
      "cell_type": "markdown",
      "metadata": {
        "id": "view-in-github",
        "colab_type": "text"
      },
      "source": [
        "<a href=\"https://colab.research.google.com/github/Jose-Alfredo-Garcia/CPP-what-I-did/blob/mainBranch/assignment1A.ipynb\" target=\"_parent\"><img src=\"https://colab.research.google.com/assets/colab-badge.svg\" alt=\"Open In Colab\"/></a>"
      ]
    },
    {
      "cell_type": "code",
      "execution_count": 1,
      "metadata": {
        "colab": {
          "base_uri": "https://localhost:8080/"
        },
        "id": "eTMgUs_VgSor",
        "outputId": "9ba012b7-7a82-4045-95b1-e89a211ee076"
      },
      "outputs": [
        {
          "output_type": "stream",
          "name": "stdout",
          "text": [
            "3.10.12 (main, Mar 22 2024, 16:50:05) [GCC 11.4.0]\n"
          ]
        }
      ],
      "source": [
        "import sys\n",
        "print (sys.version)"
      ]
    },
    {
      "cell_type": "code",
      "source": [
        "num1 = 1\n",
        "num2 = 2\n",
        "numSum = num1 + num2\n",
        "print(numSum)"
      ],
      "metadata": {
        "colab": {
          "base_uri": "https://localhost:8080/"
        },
        "id": "YL6JKwo7tQ5f",
        "outputId": "04a5090c-a586-488e-e115-1bf2663b6780"
      },
      "execution_count": 2,
      "outputs": [
        {
          "output_type": "stream",
          "name": "stdout",
          "text": [
            "3\n"
          ]
        }
      ]
    },
    {
      "cell_type": "code",
      "source": [
        "num1 = 1\n",
        "num2 = 2\n",
        "numDiv = num1/num2\n",
        "numRem = num1%num2\n",
        "print(\"The quotient is \", numDiv, \" and the remainder is \", numRem)"
      ],
      "metadata": {
        "colab": {
          "base_uri": "https://localhost:8080/"
        },
        "id": "ANYo5t4UtjmW",
        "outputId": "3ed2cb7d-6c24-4ae4-fbf4-0e261dd4155d"
      },
      "execution_count": 3,
      "outputs": [
        {
          "output_type": "stream",
          "name": "stdout",
          "text": [
            "The quotient is  0.5  and the remainder is  1\n"
          ]
        }
      ]
    },
    {
      "cell_type": "code",
      "source": [
        "greeting = \"Hello\"\n",
        "message = \"Python Learner\"\n",
        "full_message = greeting + \" \" + message\n",
        "print(full_message)"
      ],
      "metadata": {
        "colab": {
          "base_uri": "https://localhost:8080/"
        },
        "id": "ZmJrLuEzt95P",
        "outputId": "5ba3d4be-2656-46e2-e996-35820a27662c"
      },
      "execution_count": 4,
      "outputs": [
        {
          "output_type": "stream",
          "name": "stdout",
          "text": [
            "Hello Python Learner\n"
          ]
        }
      ]
    },
    {
      "cell_type": "code",
      "source": [
        "user_input = input(\"Enter a number: \")\n",
        "if user_input.isnumeric():\n",
        "  print(type(user_input))\n",
        "  user_integer = int(user_input)\n",
        "  print(type(user_integer))\n",
        "else:\n",
        "  print(\"Not a number\")"
      ],
      "metadata": {
        "colab": {
          "base_uri": "https://localhost:8080/"
        },
        "id": "5wa60ulIwNyn",
        "outputId": "8f6d7e11-6fb4-4917-a400-376cf0dcd574"
      },
      "execution_count": 8,
      "outputs": [
        {
          "output_type": "stream",
          "name": "stdout",
          "text": [
            "Enter a number: a\n",
            "Not a number\n"
          ]
        }
      ]
    },
    {
      "cell_type": "code",
      "source": [
        "num1 = 2\n",
        "num2 = 3\n",
        "square_result = num1 ** 2\n",
        "cube_result = num2 ** 3\n",
        "print(\"2 squared is \", square_result, \" and 3 cubed is \", cube_result)"
      ],
      "metadata": {
        "colab": {
          "base_uri": "https://localhost:8080/"
        },
        "id": "pkPoZLpb4MH-",
        "outputId": "f2327e60-d791-4c53-f049-e695e5f920fd"
      },
      "execution_count": 7,
      "outputs": [
        {
          "output_type": "stream",
          "name": "stdout",
          "text": [
            "2 squared is  4  and 3 cubed is  27\n"
          ]
        }
      ]
    },
    {
      "cell_type": "code",
      "source": [
        "def cel_to_far(numCel):\n",
        "  numInt = int(numCel)\n",
        "  numFar = int((numInt * 9 / 5) + 32)\n",
        "  return numFar\n",
        "\n",
        "temperature_f = input(\"Enter a number: \")\n",
        "if temperature_f.isnumeric():\n",
        "  print(cel_to_far(temperature_f))\n",
        "else:\n",
        "  print(\"Not a number\")"
      ],
      "metadata": {
        "colab": {
          "base_uri": "https://localhost:8080/"
        },
        "id": "o2M1NkF047UG",
        "outputId": "3af2390b-1737-4a59-e629-7afdf993c968"
      },
      "execution_count": 11,
      "outputs": [
        {
          "output_type": "stream",
          "name": "stdout",
          "text": [
            "Enter a number: 2\n",
            "35\n"
          ]
        }
      ]
    }
  ]
}