{
  "nbformat": 4,
  "nbformat_minor": 0,
  "metadata": {
    "colab": {
      "provenance": []
    },
    "kernelspec": {
      "name": "python3",
      "display_name": "Python 3"
    },
    "language_info": {
      "name": "python"
    }
  },
  "cells": [
    {
      "cell_type": "markdown",
      "source": [
        "# Lists\n",
        "Lists are ordered, mutable collections of elements. They can hold elements of different types."
      ],
      "metadata": {
        "id": "x_HCb049YXKB"
      }
    },
    {
      "cell_type": "code",
      "source": [
        "# Creating a list\n",
        "fruits = [\"apple\", \"banana\", \"cherry\", \"durian\", \"apple\"]\n",
        "\n",
        "\n",
        "\n",
        "\n",
        "# Elements can be identified using positive index / Negative index\n",
        "# 0 - apple\n",
        "# 1 - banana\n",
        "# 2 - cherry\n",
        "# 3 - durian\n",
        "\n",
        "\n",
        "# -1 - durian - Last item of the list\n",
        "# -2 - cherry\n",
        "# -3 - banana\n",
        "# -4 - apple\n",
        "\n",
        "\n",
        "print (fruits)\n",
        "\n",
        "# Accessing elements\n",
        "first_fruit = fruits[0]  # \"apple\"\n",
        "print (first_fruit)\n",
        "\n",
        "\n",
        "# Accessing elements\n",
        "last_fruit = fruits[-1]  # \"durian\"\n",
        "print (last_fruit)\n",
        "\n",
        "\n",
        "# Modifying elements\n",
        "fruits[1] = \"blueberry\"  # fruits is now [\"apple\", \"blueberry\", \"cherry\"]\n",
        "print(fruits[1])\n",
        "\n",
        "# Adding elements\n",
        "fruits.append(\"date\")  # fruits is now [\"apple\", \"blueberry\", \"cherry\", \"date\"]\n",
        "print (fruits)\n",
        "\n",
        "# Removing elements\n",
        "fruits.remove(\"cherry\")  # fruits is now [\"apple\", \"blueberry\", \"date\"]\n",
        "print (fruits)\n",
        "\n",
        "fruits.pop() # Revome element\n",
        "print (fruits)\n",
        "\n",
        "\n"
      ],
      "metadata": {
        "id": "iReRO59Gf2p_",
        "colab": {
          "base_uri": "https://localhost:8080/"
        },
        "outputId": "9fd9cf60-53aa-4734-f716-ee9c9032e302"
      },
      "execution_count": null,
      "outputs": [
        {
          "output_type": "stream",
          "name": "stdout",
          "text": [
            "{'durian', 'banana', 'apple', 'cherry'}\n",
            "['apple', 'banana', 'cherry', 'durian', 'apple']\n",
            "apple\n",
            "apple\n",
            "blueberry\n",
            "['apple', 'blueberry', 'cherry', 'durian', 'apple', 'date']\n",
            "['apple', 'blueberry', 'durian', 'apple', 'date']\n",
            "['apple', 'blueberry', 'durian', 'apple']\n"
          ]
        }
      ]
    },
    {
      "cell_type": "code",
      "source": [
        "# Creating a list\n",
        "fruits = [\"apple\", \"banana\", \"cherry\", \"durian\", \"apple\"]\n",
        "print (fruits)\n",
        "\n",
        "# convert fruits to set\n",
        "fruits_set = set(fruits)\n",
        "print (fruits_set)"
      ],
      "metadata": {
        "colab": {
          "base_uri": "https://localhost:8080/"
        },
        "id": "CwRZuDTKcACa",
        "outputId": "c8da6368-9f0b-4dfa-d065-a660feed722a"
      },
      "execution_count": null,
      "outputs": [
        {
          "output_type": "stream",
          "name": "stdout",
          "text": [
            "['apple', 'banana', 'cherry', 'durian', 'apple']\n",
            "{'durian', 'banana', 'apple', 'cherry'}\n"
          ]
        }
      ]
    },
    {
      "cell_type": "code",
      "source": [
        "fruits_set = {\"apple\", \"banana\", \"cherry\", \"durian\", \"apple\"}\n",
        "print (fruits_set)"
      ],
      "metadata": {
        "colab": {
          "base_uri": "https://localhost:8080/"
        },
        "id": "KVIpHO1jZIL6",
        "outputId": "3cd3386c-af64-450c-bfb2-27c301bee993"
      },
      "execution_count": null,
      "outputs": [
        {
          "output_type": "stream",
          "name": "stdout",
          "text": [
            "{'durian', 'banana', 'apple', 'cherry'}\n"
          ]
        }
      ]
    },
    {
      "cell_type": "markdown",
      "source": [
        "# Tuples\n",
        "Tuples are ordered, immutable collections of elements. They can hold elements of different types"
      ],
      "metadata": {
        "id": "5hcIZwxuYoQf"
      }
    },
    {
      "cell_type": "code",
      "source": [
        "# Creating a list\n",
        "fruits = (\"apple\", \"banana\", \"cherry\")\n",
        "\n",
        "print (fruits)\n",
        "\n",
        "# Accessing elements\n",
        "first_fruit = fruits[0]  # \"apple\"\n",
        "print (first_fruit)\n",
        "\n",
        "\n",
        "# Accessing elements\n",
        "last_fruit = fruits[-1]  # \"cherry\"\n",
        "print (last_fruit)\n",
        "\n",
        "\n",
        "# Modifying elements\n",
        "#fruits[1] = \"blueberry\"  # fruits is now [\"apple\", \"blueberry\", \"cherry\"]\n",
        "print(fruits[1])\n",
        "\n",
        "# Adding elements\n",
        "# fruits.append(\"date\")  # fruits is now [\"apple\", \"blueberry\", \"cherry\", \"date\"]\n",
        "print (fruits)\n",
        "\n",
        "# Removing elements\n",
        "# fruits.remove(\"cherry\")  # fruits is now [\"apple\", \"blueberry\", \"date\"]\n",
        "#print (fruits)"
      ],
      "metadata": {
        "colab": {
          "base_uri": "https://localhost:8080/",
          "height": 280
        },
        "id": "vOxnKuEdgk4R",
        "outputId": "7fa496f7-1b40-437c-c306-8c0e4ed858ca"
      },
      "execution_count": null,
      "outputs": [
        {
          "output_type": "stream",
          "name": "stdout",
          "text": [
            "('apple', 'banana', 'cherry')\n",
            "apple\n",
            "cherry\n",
            "banana\n",
            "('apple', 'banana', 'cherry')\n"
          ]
        },
        {
          "output_type": "error",
          "ename": "AttributeError",
          "evalue": "'tuple' object has no attribute 'remove'",
          "traceback": [
            "\u001b[0;31m---------------------------------------------------------------------------\u001b[0m",
            "\u001b[0;31mAttributeError\u001b[0m                            Traceback (most recent call last)",
            "\u001b[0;32m<ipython-input-5-0f14cd8dcf25>\u001b[0m in \u001b[0;36m<cell line: 25>\u001b[0;34m()\u001b[0m\n\u001b[1;32m     23\u001b[0m \u001b[0;34m\u001b[0m\u001b[0m\n\u001b[1;32m     24\u001b[0m \u001b[0;31m# Removing elements\u001b[0m\u001b[0;34m\u001b[0m\u001b[0;34m\u001b[0m\u001b[0m\n\u001b[0;32m---> 25\u001b[0;31m \u001b[0mfruits\u001b[0m\u001b[0;34m.\u001b[0m\u001b[0mremove\u001b[0m\u001b[0;34m(\u001b[0m\u001b[0;34m\"cherry\"\u001b[0m\u001b[0;34m)\u001b[0m  \u001b[0;31m# fruits is now [\"apple\", \"blueberry\", \"date\"]\u001b[0m\u001b[0;34m\u001b[0m\u001b[0;34m\u001b[0m\u001b[0m\n\u001b[0m\u001b[1;32m     26\u001b[0m \u001b[0;31m#print (fruits)\u001b[0m\u001b[0;34m\u001b[0m\u001b[0;34m\u001b[0m\u001b[0m\n",
            "\u001b[0;31mAttributeError\u001b[0m: 'tuple' object has no attribute 'remove'"
          ]
        }
      ]
    },
    {
      "cell_type": "code",
      "source": [
        "# Creating a tuple\n",
        "coordinates = (10.0, 20.0)\n",
        "print (coordinates)\n",
        "\n",
        "# Accessing elements\n",
        "latitude = coordinates[0]  # 10.0\n",
        "\n",
        "# Tuples are immutable, so elements cannot be changed\n",
        "\n",
        "# Tuple unpacking\n",
        "lat, lon = coordinates  # lat is 10.0, lon is 20.0\n",
        "print (\"lat = \", lat, \"lon = \", lon)\n"
      ],
      "metadata": {
        "colab": {
          "base_uri": "https://localhost:8080/"
        },
        "id": "jPadaxICiC0X",
        "outputId": "7a59f40d-bdb3-49c6-dfab-a3e85fdd8ffc"
      },
      "execution_count": null,
      "outputs": [
        {
          "output_type": "stream",
          "name": "stdout",
          "text": [
            "(10.0, 20.0)\n",
            "lat =  10.0 lon =  20.0\n"
          ]
        }
      ]
    },
    {
      "cell_type": "markdown",
      "source": [
        "# Sets\n",
        "Sets are unordered collections of unique elements."
      ],
      "metadata": {
        "id": "T5ThDpKPZMXf"
      }
    },
    {
      "cell_type": "code",
      "source": [
        "# Creating a set\n",
        "unique_numbers = {1, 2, 3, 4, 5, 1}\n",
        "print (unique_numbers)\n",
        "\n",
        "\n",
        "# Adding elements\n",
        "unique_numbers.add(6)  # {1, 2, 3, 4, 5, 6}\n",
        "print (unique_numbers)\n",
        "\n",
        "# Removing elements\n",
        "unique_numbers.remove(3)  # {1, 2, 4, 5, 6}\n",
        "print()\n",
        "\n",
        "print (unique_numbers)\n",
        "\n",
        "# Set operations\n",
        "other_numbers = {4, 5, 6, 7, 8}\n",
        "print (other_numbers)\n",
        "print()\n",
        "# Union\n",
        "union_set = unique_numbers | other_numbers  # {1, 2, 4, 5, 6, 7, 8}\n",
        "print (union_set)\n",
        "\n",
        "# Intersection\n",
        "intersection_set = unique_numbers & other_numbers  # {4, 5, 6}\n",
        "print (intersection_set)\n",
        "\n",
        "# Difference\n",
        "difference_set = unique_numbers - other_numbers  # {1, 2}\n",
        "print (difference_set)\n",
        "\n",
        "\n",
        "# Difference\n",
        "difference_set2 = other_numbers - unique_numbers    # {7, 8}\n",
        "print (difference_set2)"
      ],
      "metadata": {
        "colab": {
          "base_uri": "https://localhost:8080/"
        },
        "id": "d_K8-x16i3Cb",
        "outputId": "5f19a880-5294-452c-e925-3448b3854eea"
      },
      "execution_count": null,
      "outputs": [
        {
          "output_type": "stream",
          "name": "stdout",
          "text": [
            "{1, 2, 3, 4, 5}\n",
            "{1, 2, 3, 4, 5, 6}\n",
            "\n",
            "{1, 2, 4, 5, 6}\n",
            "{4, 5, 6, 7, 8}\n",
            "\n",
            "{1, 2, 4, 5, 6, 7, 8}\n",
            "{4, 5, 6}\n",
            "{1, 2}\n",
            "{8, 7}\n"
          ]
        }
      ]
    },
    {
      "cell_type": "markdown",
      "source": [
        "# Dictionaries\n",
        "Dictionaries are unordered collections of key-value pairs. Keys must be unique and immutable"
      ],
      "metadata": {
        "id": "nUDxwGSXY9cT"
      }
    },
    {
      "cell_type": "code",
      "source": [
        "# Creating a dictionary\n",
        "student = {\n",
        "    \"name\": \"John Doe\",\n",
        "    \"age\": 21,\n",
        "    \"courses\": [\"Math\", \"Science\"]\n",
        "}\n",
        "print (student)\n",
        "\n",
        "# Accessing elements\n",
        "student_name = student[\"name\"]  # \"John Doe\"\n",
        "\n",
        "# Modifying elements\n",
        "student[\"age\"] = 22  # age is now 22\n",
        "\n",
        "# Adding elements\n",
        "student[\"grade\"] = \"A\"  # added new key-value pair\n",
        "\n",
        "print (student)\n",
        "\n",
        "# Removing elements\n",
        "del student[\"courses\"]  # \"courses\" key-value pair removed\n",
        "\n",
        "# Iterating over keys and values\n",
        "for key, value in student.items():\n",
        "    print(f\"{key}: {value}\")\n",
        "    #print (key, \" : \", value)\n",
        "\n",
        "for key in student.keys():\n",
        "    print (key)\n",
        "\n",
        "for value in student.values():\n",
        "    print (value)\n",
        "\n"
      ],
      "metadata": {
        "colab": {
          "base_uri": "https://localhost:8080/"
        },
        "id": "EFZ1LnjPvGXF",
        "outputId": "f1f994cd-2e93-4d2d-8966-094df4317a2d"
      },
      "execution_count": null,
      "outputs": [
        {
          "output_type": "stream",
          "name": "stdout",
          "text": [
            "{'name': 'John Doe', 'age': 21, 'courses': ['Math', 'Science']}\n",
            "{'name': 'John Doe', 'age': 22, 'courses': ['Math', 'Science'], 'grade': 'A'}\n",
            "name: John Doe\n",
            "age: 22\n",
            "grade: A\n",
            "name\n",
            "age\n",
            "grade\n",
            "John Doe\n",
            "22\n",
            "A\n"
          ]
        }
      ]
    },
    {
      "cell_type": "markdown",
      "source": [
        "# Create a dictionary with keys as the first 5 natural numbers and values as their squares."
      ],
      "metadata": {
        "id": "V97iOnfoGuMU"
      }
    },
    {
      "cell_type": "code",
      "source": [
        "# Output : {1: 1, 2: 4, 3: 9, 4: 16, 5: 25}\n",
        "\n",
        "squares = {i: i ** 2 for i in range(1, 6)}\n",
        "print(squares)\n"
      ],
      "metadata": {
        "colab": {
          "base_uri": "https://localhost:8080/"
        },
        "id": "_cDw6taPGiTB",
        "outputId": "2b18ae7b-f145-42b4-9838-11c4ee18db59"
      },
      "execution_count": null,
      "outputs": [
        {
          "output_type": "stream",
          "name": "stdout",
          "text": [
            "{1: 1, 2: 4, 3: 9, 4: 16, 5: 25}\n"
          ]
        }
      ]
    },
    {
      "cell_type": "markdown",
      "source": [
        "# Given a dictionary {\"a\": 1, \"b\": 2, \"c\": 3}, add a new key \"d\" with value 4."
      ],
      "metadata": {
        "id": "dYFJP5s6HGxw"
      }
    },
    {
      "cell_type": "code",
      "source": [
        "# {'a': 1, 'b': 2, 'c': 3, 'd': 4}\n",
        "my_dict = {\"a\": 1, \"b\": 2, \"c\": 3}\n",
        "my_dict[\"d\"] = 4\n",
        "print(my_dict)\n"
      ],
      "metadata": {
        "colab": {
          "base_uri": "https://localhost:8080/"
        },
        "id": "rrtBuCX-HJix",
        "outputId": "b1b984da-b7f1-4eff-efcd-38ee8e411de4"
      },
      "execution_count": null,
      "outputs": [
        {
          "output_type": "stream",
          "name": "stdout",
          "text": [
            "{'a': 1, 'b': 2, 'c': 3, 'd': 4}\n"
          ]
        }
      ]
    },
    {
      "cell_type": "markdown",
      "source": [
        "# Merge two dictionaries {\"a\": 1, \"b\": 2} and {\"c\": 3, \"d\": 4}."
      ],
      "metadata": {
        "id": "4LpEkZ6bHWXl"
      }
    },
    {
      "cell_type": "code",
      "source": [
        "# {'a': 1, 'b': 2, 'c': 3, 'd': 4}\n",
        "dict1 = {\"a\": 1, \"b\": 2}\n",
        "dict2 = {\"c\": 3, \"d\": 4}\n",
        "merged_dict = {**dict1, **dict2}\n",
        "print(merged_dict)\n"
      ],
      "metadata": {
        "colab": {
          "base_uri": "https://localhost:8080/"
        },
        "id": "D35EFgYfHZTX",
        "outputId": "bab7d557-7cd2-4fe8-c49e-a137c55ba5e2"
      },
      "execution_count": null,
      "outputs": [
        {
          "output_type": "stream",
          "name": "stdout",
          "text": [
            "{'a': 1, 'b': 2, 'c': 3, 'd': 4}\n"
          ]
        }
      ]
    },
    {
      "cell_type": "markdown",
      "source": [
        "# Check if the key \"b\" or \"x\" exists in the dictionary {\"a\": 1, \"b\": 2, \"c\": 3}."
      ],
      "metadata": {
        "id": "MX7sy0FmHo9Z"
      }
    },
    {
      "cell_type": "code",
      "source": [
        "# True\n",
        "my_dict = {\"a\": 1, \"b\": 2, \"c\": 3}\n",
        "key_exists = \"b\" in my_dict\n",
        "print(key_exists)"
      ],
      "metadata": {
        "colab": {
          "base_uri": "https://localhost:8080/"
        },
        "id": "W1DEcWXBHnst",
        "outputId": "dba8914a-861e-4e54-ac0e-e4bfe5d1ab8e"
      },
      "execution_count": null,
      "outputs": [
        {
          "output_type": "stream",
          "name": "stdout",
          "text": [
            "True\n"
          ]
        }
      ]
    },
    {
      "cell_type": "code",
      "source": [
        "my_dict = {\"a\": 1, \"b\": 2, \"c\": 3}\n",
        "key_exists = \"x\" in my_dict\n",
        "print(key_exists)"
      ],
      "metadata": {
        "colab": {
          "base_uri": "https://localhost:8080/"
        },
        "id": "lF5QNk9IIAyA",
        "outputId": "4517c6fa-3d95-44bf-bca8-c522ace47926"
      },
      "execution_count": null,
      "outputs": [
        {
          "output_type": "stream",
          "name": "stdout",
          "text": [
            "False\n"
          ]
        }
      ]
    },
    {
      "cell_type": "markdown",
      "source": [
        "# Remove the key \"b\" from the dictionary {\"a\": 1, \"b\": 2, \"c\": 3}."
      ],
      "metadata": {
        "id": "7G_pVdWwIPEQ"
      }
    },
    {
      "cell_type": "code",
      "source": [
        "# Answer\n",
        "my_dict = {\"a\": 1, \"b\": 2, \"c\": 3}\n",
        "removed_value = my_dict.pop(\"b\")\n",
        "print(my_dict)\n"
      ],
      "metadata": {
        "id": "eo-IhsKoIXrs"
      },
      "execution_count": null,
      "outputs": []
    },
    {
      "cell_type": "markdown",
      "source": [
        "# Create a dictionary from the list of tuples [(\"a\", 1), (\"b\", 2), (\"c\", 3)]."
      ],
      "metadata": {
        "id": "sooumuu_If7B"
      }
    },
    {
      "cell_type": "code",
      "source": [
        "# {'a': 1, 'b': 2, 'c': 3}\n",
        "tuples_list = [(\"a\", 1), (\"b\", 2), (\"c\", 3)]\n",
        "my_dict = dict(tuples_list)\n",
        "print(my_dict)\n"
      ],
      "metadata": {
        "colab": {
          "base_uri": "https://localhost:8080/"
        },
        "id": "QMf4nh0_Ioav",
        "outputId": "c61a47ec-df32-4c9c-baa3-a75c5c39309b"
      },
      "execution_count": null,
      "outputs": [
        {
          "output_type": "stream",
          "name": "stdout",
          "text": [
            "{'a': 1, 'b': 2, 'c': 3}\n"
          ]
        }
      ]
    },
    {
      "cell_type": "markdown",
      "source": [
        "# Get the list of keys from the dictionary {\"a\": 1, \"b\": 2, \"c\": 3}."
      ],
      "metadata": {
        "id": "vCNP-1HgI2FK"
      }
    },
    {
      "cell_type": "code",
      "source": [
        "# ['a', 'b', 'c']\n",
        "my_dict = {\"a\": 1, \"b\": 2, \"c\": 3}\n",
        "keys_list = list(my_dict.keys())\n",
        "print(keys_list)\n"
      ],
      "metadata": {
        "colab": {
          "base_uri": "https://localhost:8080/"
        },
        "id": "uFP7c4IhI41j",
        "outputId": "217a0fc4-b46e-4078-d56f-bd67360799fa"
      },
      "execution_count": null,
      "outputs": [
        {
          "output_type": "stream",
          "name": "stdout",
          "text": [
            "['a', 'b', 'c']\n"
          ]
        }
      ]
    },
    {
      "cell_type": "markdown",
      "source": [
        "# Get the list of values from the dictionary {\"a\": 1, \"b\": 2, \"c\": 3}.\n",
        "\n",
        "\n",
        "\n"
      ],
      "metadata": {
        "id": "UF8I4fOpJJu7"
      }
    },
    {
      "cell_type": "code",
      "source": [
        "my_dict = {\"a\": 1, \"b\": 2, \"c\": 3}\n",
        "values_list = list(my_dict.values())\n",
        "print(values_list)"
      ],
      "metadata": {
        "colab": {
          "base_uri": "https://localhost:8080/"
        },
        "id": "QXdOlDIAJs09",
        "outputId": "7bfec546-fc9e-4dda-d856-1ff80802745e"
      },
      "execution_count": null,
      "outputs": [
        {
          "output_type": "stream",
          "name": "stdout",
          "text": [
            "[1, 2, 3]\n"
          ]
        }
      ]
    },
    {
      "cell_type": "markdown",
      "source": [
        "# Update the value of key \"a\" to 10 in the dictionary {\"a\": 1, \"b\": 2, \"c\": 3}.\n",
        "\n"
      ],
      "metadata": {
        "id": "Fkkx2cnJJcLl"
      }
    },
    {
      "cell_type": "code",
      "source": [
        "my_dict = {\"a\": 1, \"b\": 2, \"c\": 3}\n",
        "my_dict[\"a\"] = 10\n",
        "print(my_dict)"
      ],
      "metadata": {
        "colab": {
          "base_uri": "https://localhost:8080/"
        },
        "id": "v8M1orLyJgUc",
        "outputId": "46cd82a1-e1d9-4687-83a1-e76cfc1eafd5"
      },
      "execution_count": null,
      "outputs": [
        {
          "output_type": "stream",
          "name": "stdout",
          "text": [
            "{'a': 10, 'b': 2, 'c': 3}\n"
          ]
        }
      ]
    },
    {
      "cell_type": "markdown",
      "source": [
        "# Iterate through the dictionary {\"a\": 1, \"b\": 2, \"c\": 3} and print each key-value pair."
      ],
      "metadata": {
        "id": "FqS3RtoHJOjV"
      }
    },
    {
      "cell_type": "code",
      "source": [
        "my_dict = {\"a\": 1, \"b\": 2, \"c\": 3}\n",
        "for key, value in my_dict.items(): print(f\"Key: {key}, Value: {value}\")"
      ],
      "metadata": {
        "colab": {
          "base_uri": "https://localhost:8080/"
        },
        "id": "pCREJRg_JTi-",
        "outputId": "72b085a0-8768-4e38-a13c-df68b5cb62a9"
      },
      "execution_count": null,
      "outputs": [
        {
          "output_type": "stream",
          "name": "stdout",
          "text": [
            "Key: a, Value: 1\n",
            "Key: b, Value: 2\n",
            "Key: c, Value: 3\n"
          ]
        }
      ]
    }
  ]
}