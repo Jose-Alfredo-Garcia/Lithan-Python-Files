{
  "cells": [
    {
      "cell_type": "markdown",
      "metadata": {
        "id": "f48j5gYaFRKS"
      },
      "source": [
        "# Hello World"
      ]
    },
    {
      "cell_type": "code",
      "source": [
        "# python --version\n",
        "import sys\n",
        "print (sys.version)\n"
      ],
      "metadata": {
        "colab": {
          "base_uri": "https://localhost:8080/"
        },
        "id": "-tiATu7gxpsZ",
        "outputId": "85e1789d-d1a5-4de8-d94f-eefac8291e81"
      },
      "execution_count": null,
      "outputs": [
        {
          "output_type": "stream",
          "name": "stdout",
          "text": [
            "3.10.12 (main, Mar 22 2024, 16:50:05) [GCC 11.4.0]\n"
          ]
        }
      ]
    },
    {
      "cell_type": "code",
      "execution_count": null,
      "metadata": {
        "colab": {
          "base_uri": "https://localhost:8080/"
        },
        "id": "TFZwBBtvd6ab",
        "outputId": "5c29023c-120c-457e-e56c-74b75929beb3"
      },
      "outputs": [
        {
          "name": "stdout",
          "output_type": "stream",
          "text": [
            "Hello World!\n"
          ]
        }
      ],
      "source": [
        "# Single line comment - commnent means it is a non-executable statement\n",
        "# print - to display the information\n",
        "print(\"Hello World!\")"
      ]
    },
    {
      "cell_type": "markdown",
      "metadata": {
        "id": "ZPV2UwPVFYog"
      },
      "source": [
        "# String Identifier and Coding standards"
      ]
    },
    {
      "cell_type": "code",
      "execution_count": null,
      "metadata": {
        "colab": {
          "base_uri": "https://localhost:8080/"
        },
        "id": "IzHnZX3DeOFH",
        "outputId": "ce71b845-9e15-4120-a5b0-7a0544c7bbde"
      },
      "outputs": [
        {
          "name": "stdout",
          "output_type": "stream",
          "text": [
            "I'm fine\n",
            "My height is 5' 2\"\n"
          ]
        }
      ],
      "source": [
        "print (\"I'm fine\")\n",
        "print ('My height is 5\\' 2\"')"
      ]
    },
    {
      "cell_type": "markdown",
      "metadata": {
        "id": "F38jnz2UgVDf"
      },
      "source": [
        "Hello World\n",
        "\n",
        "Camel Case - helloWorld, myHeightIs\n",
        "\n",
        "Pascal Case - HelloWorld, MyHeightIs\n",
        "\n",
        "Snake Case - hello_world, hello-world, my_height_is"
      ]
    },
    {
      "cell_type": "code",
      "execution_count": null,
      "metadata": {
        "id": "iReRO59Gf2p_"
      },
      "outputs": [],
      "source": [
        "print ('I\\'m fine')"
      ]
    },
    {
      "cell_type": "markdown",
      "metadata": {
        "id": "OOIWBoeCFsZn"
      },
      "source": [
        "# Comments and Indentation"
      ]
    },
    {
      "cell_type": "code",
      "execution_count": null,
      "metadata": {
        "id": "jPadaxICiC0X"
      },
      "outputs": [],
      "source": [
        "'''\n",
        "In java\n",
        "for name in names {\n",
        "print name;\n",
        "}\n",
        "'''\n",
        "\n",
        "for i in range(1,11):\n",
        "    if i == 5:\n",
        "        break\n",
        "    print(i)"
      ]
    },
    {
      "cell_type": "code",
      "execution_count": null,
      "metadata": {
        "id": "EFZ1LnjPvGXF"
      },
      "outputs": [],
      "source": [
        "for i in range(1,11):\n",
        "    if i == 5:\n",
        "        continue\n",
        "    print(i)\n",
        "\n"
      ]
    },
    {
      "cell_type": "code",
      "execution_count": null,
      "metadata": {
        "id": "gnxjv5eWia6H"
      },
      "outputs": [],
      "source": [
        "for i in range(1,11):\n",
        "  print(i)\n",
        "if i == 5:\n",
        "  break"
      ]
    },
    {
      "cell_type": "code",
      "execution_count": null,
      "metadata": {
        "id": "d_K8-x16i3Cb"
      },
      "outputs": [],
      "source": [
        "i = 1\n",
        "for i in range(1,11):\n",
        "  print(i)\n",
        "if i == 5:\n",
        "  break"
      ]
    },
    {
      "cell_type": "code",
      "execution_count": null,
      "metadata": {
        "id": "PYjvg3_BjISg"
      },
      "outputs": [],
      "source": [
        "for i in range(1,11): # for is the loop. i is iterator, range (1,11) - 1 is the lower limit, 11-1 is the upper limit.\n",
        "                      # first iteration i = 1\n",
        "                      # second iteration i will be incremented by 1 => i = 2\n",
        "  print(i)\n",
        "  if i == 5:  # While i is equal to 5 then exit the loop\n",
        "    break     # Exit from the loop"
      ]
    },
    {
      "cell_type": "code",
      "execution_count": null,
      "metadata": {
        "colab": {
          "base_uri": "https://localhost:8080/"
        },
        "id": "jxFgAX4nkdev",
        "outputId": "10b8af1d-f7f2-4925-ab9a-ac73884f1a6b"
      },
      "outputs": [
        {
          "name": "stdout",
          "output_type": "stream",
          "text": [
            "This is an example for multi line comment\n"
          ]
        }
      ],
      "source": [
        "\"\"\"\n",
        "for i in range(1,11): # for is the loop. i is iterator, range (1,11) - 1 is the lower limit, 11-1 is the upper limit.\n",
        "                      # first iteration i = 1\n",
        "                      # second iteration i will be incremented by 1 => i = 2\n",
        "  print(i)\n",
        "  if i == 5:  # While i is equal to 5 then exit the loop\n",
        "    break     # Exit from the loop\n",
        "\"\"\"\n",
        "print (\"This is an example for multi line comment\")"
      ]
    },
    {
      "cell_type": "code",
      "execution_count": null,
      "metadata": {
        "id": "P9ETgAZMkxOm"
      },
      "outputs": [],
      "source": [
        "'''\n",
        "for i in range(1,11): # for is the loop. i is iterator, range (1,11) - 1 is the lower limit, 11-1 is the upper limit.\n",
        "                      # first iteration i = 1\n",
        "                      # second iteration i will be incremented by 1 => i = 2\n",
        "  print(i)\n",
        "  if i == 5:  # While i is equal to 5 then exit the loop\n",
        "    break     # Exit from the loop\n",
        "'''\n",
        "print (\"This is an example for multi line comment\")"
      ]
    },
    {
      "cell_type": "markdown",
      "metadata": {
        "id": "--Mz0yMkGKf9"
      },
      "source": [
        "# Data Type"
      ]
    },
    {
      "cell_type": "code",
      "execution_count": null,
      "metadata": {
        "colab": {
          "base_uri": "https://localhost:8080/"
        },
        "id": "d8wMMJVqlBr9",
        "outputId": "e3ecee54-f5e1-4b5d-bc6e-07f5d103b113"
      },
      "outputs": [
        {
          "name": "stdout",
          "output_type": "stream",
          "text": [
            "<class 'str'>\n",
            "<class 'int'>\n",
            "<class 'float'>\n"
          ]
        }
      ],
      "source": [
        "\n",
        "'''\n",
        "datatype variableName = value;\n",
        "Ex\n",
        "    String name = \"Alice\";\n",
        "    int age = 6\n",
        "\n",
        "    name = 6    is not allowed in Java. Results Type Mismatch Exception\n",
        "\n",
        "\n",
        "'''\n",
        "name = \"Alice\"      # String\n",
        "age = 16            # Integer\n",
        "weight = 45.6       # Float\n",
        "\n",
        "\n",
        "print (type(name))        # type function returns the data type of the variable\n",
        "print (type(age))\n",
        "print (type(weight))\n",
        "\n",
        "\n",
        "\n"
      ]
    },
    {
      "cell_type": "code",
      "execution_count": null,
      "metadata": {
        "colab": {
          "base_uri": "https://localhost:8080/"
        },
        "id": "a1JWOr60l5FP",
        "outputId": "2e1ad1be-bc04-4ded-ea87-643f4a125982"
      },
      "outputs": [
        {
          "name": "stdout",
          "output_type": "stream",
          "text": [
            "Name = Alice\n",
            "Age =  16\n",
            "Weight =  45.6\n"
          ]
        }
      ],
      "source": [
        "name, age, weight = \"Alice\", 16, 45.6\n",
        "print (\"Name =\", name)\n",
        "print (\"Age = \", age)\n",
        "print (\"Weight = \", weight)"
      ]
    },
    {
      "cell_type": "code",
      "execution_count": null,
      "metadata": {
        "colab": {
          "base_uri": "https://localhost:8080/"
        },
        "id": "4XFqTkbYmXXd",
        "outputId": "849c34aa-bdce-45e1-db0c-c0e199662c43"
      },
      "outputs": [
        {
          "name": "stdout",
          "output_type": "stream",
          "text": [
            "<class 'str'>\n",
            "<class 'float'>\n"
          ]
        }
      ],
      "source": [
        "# Python idenfies the data type based on the values assigned - Loosly coupled\n",
        "\n",
        "x = \"Apple\"               # String x = \"Apple\" - in Java\n",
        "print (type(x)) # String\n",
        "\n",
        "x = 2.50                  # This line will show error - Data type mistmatch. Can't assign float value to String data type - Tightly coupled\n",
        "print (type(x)) # Float"
      ]
    },
    {
      "cell_type": "code",
      "execution_count": null,
      "metadata": {
        "colab": {
          "base_uri": "https://localhost:8080/"
        },
        "id": "OhZxLGyRnw-s",
        "outputId": "1dc07f15-cbd1-4842-bf2b-f0fc7c567b30"
      },
      "outputs": [
        {
          "name": "stdout",
          "output_type": "stream",
          "text": [
            "Area of the circle =  12.56\n"
          ]
        }
      ],
      "source": [
        "# Write a program to find the area of the circle - pi*r2\n",
        "\n",
        "PI = 3.14           # PI is constant - upper case\n",
        "r = 2               # r is a variable - lower case\n",
        "\n",
        "area = PI * r * r\n",
        "\n",
        "print ( \"Area of the circle = \", area)"
      ]
    },
    {
      "cell_type": "code",
      "execution_count": null,
      "metadata": {
        "colab": {
          "base_uri": "https://localhost:8080/"
        },
        "id": "d7u7v0risk3G",
        "outputId": "b8d748d4-80ad-4973-b468-ca607d3f3767"
      },
      "outputs": [
        {
          "name": "stdout",
          "output_type": "stream",
          "text": [
            "Area of the circle =  12.56\n"
          ]
        }
      ],
      "source": [
        "# Write a program to find the area of the circle - pi*r2 using exponent\n",
        "\n",
        "PI = 3.14           # PI is constant - upper case\n",
        "r = 2               # r is a variable - lower case\n",
        "\n",
        "area = PI * r ** 2\n",
        "\n",
        "print ( \"Area of the circle = \", area)"
      ]
    },
    {
      "cell_type": "code",
      "execution_count": null,
      "metadata": {
        "id": "R1KRtotNsvV8"
      },
      "outputs": [],
      "source": [
        "a = 2\n",
        "print (a ** 3)      # 2 * 2 * 2"
      ]
    },
    {
      "cell_type": "markdown",
      "metadata": {
        "id": "F10AvHntGifB"
      },
      "source": [
        "String vs Numbers"
      ]
    },
    {
      "cell_type": "code",
      "execution_count": null,
      "metadata": {
        "colab": {
          "base_uri": "https://localhost:8080/"
        },
        "id": "JJJcqSU5o7WM",
        "outputId": "44b0629e-3057-4ebb-eb18-207c9f7af545"
      },
      "outputs": [
        {
          "name": "stdout",
          "output_type": "stream",
          "text": [
            "8\n",
            "53\n"
          ]
        }
      ],
      "source": [
        "# + - Add the numeric values, Concat the strings\n",
        "\n",
        "A = 5\n",
        "B = 3\n",
        "\n",
        "C = \"5\"\n",
        "D = \"3\"\n",
        "\n",
        "print (A + B)\n",
        "print (C + D)"
      ]
    },
    {
      "cell_type": "code",
      "execution_count": null,
      "metadata": {
        "colab": {
          "base_uri": "https://localhost:8080/"
        },
        "id": "uQfFbFadp8CH",
        "outputId": "a9e01c43-78f6-47f9-c44d-17f5498ce124"
      },
      "outputs": [
        {
          "name": "stdout",
          "output_type": "stream",
          "text": [
            "Enter your num 1: 5\n",
            "Enter your num 2: 3\n",
            "<class 'str'>\n",
            "<class 'str'>\n",
            "53\n",
            "8\n"
          ]
        }
      ],
      "source": [
        "# Accept input from the user and add it\n",
        "num1 = input (\"Enter your num 1: \")\n",
        "num2 = input (\"Enter your num 2: \")\n",
        "print (type(num1))                   # User input always accepted as String\n",
        "print (type(num2))\n",
        "print (num1 + num2)\n",
        "\n",
        "print (int(num1) + int(num2))         #type casting - converting from one data type to another\n",
        "\n",
        "                                      # int() - Converts String into integer"
      ]
    },
    {
      "cell_type": "markdown",
      "metadata": {
        "id": "VSaSp2VTGvVg"
      },
      "source": [
        "# Arithmetic Operators"
      ]
    },
    {
      "cell_type": "code",
      "execution_count": null,
      "metadata": {
        "id": "OG-I0B_-DdS3"
      },
      "outputs": [],
      "source": [
        "# Define sample variables\n",
        "a = 10\n",
        "b = 3"
      ]
    },
    {
      "cell_type": "code",
      "execution_count": null,
      "metadata": {
        "colab": {
          "base_uri": "https://localhost:8080/"
        },
        "id": "WDIl-RnuDfkD",
        "outputId": "a7f4d6bc-f615-4b47-ae0b-fa26da0e039b"
      },
      "outputs": [
        {
          "name": "stdout",
          "output_type": "stream",
          "text": [
            "13\n"
          ]
        }
      ],
      "source": [
        "# 1. Addition (+)\n",
        "# Add two numbers\n",
        "sum_result = a + b  # sum_result will be 13\n",
        "print (sum_result)"
      ]
    },
    {
      "cell_type": "code",
      "execution_count": null,
      "metadata": {
        "id": "n55xlmhGDnIq"
      },
      "outputs": [],
      "source": [
        "# 2. Subtraction (-)\n",
        "# Subtract one number from another\n",
        "difference_result = a - b  # difference_result will be 7\n",
        "print (difference_result)"
      ]
    },
    {
      "cell_type": "code",
      "execution_count": null,
      "metadata": {
        "id": "gSRxsv82DuxA"
      },
      "outputs": [],
      "source": [
        "# 3. Multiplication (*)\n",
        "# Multiply two numbers\n",
        "product_result = a * b  # product_result will be 30\n",
        "print (product_result)"
      ]
    },
    {
      "cell_type": "code",
      "execution_count": null,
      "metadata": {
        "colab": {
          "base_uri": "https://localhost:8080/"
        },
        "id": "BISz6L1YD1Wl",
        "outputId": "7ba59839-1cd6-43ff-da9e-f7f208aa1824"
      },
      "outputs": [
        {
          "name": "stdout",
          "output_type": "stream",
          "text": [
            "3.3333333333333335\n"
          ]
        }
      ],
      "source": [
        "# 4. Division (/)\n",
        "# Divide one number by another (results in a float)\n",
        "division_result = a / b  # division_result will be 3.3333333333333335\n",
        "print(division_result)"
      ]
    },
    {
      "cell_type": "code",
      "execution_count": null,
      "metadata": {
        "colab": {
          "base_uri": "https://localhost:8080/"
        },
        "id": "LUjgnQr_FavD",
        "outputId": "e2b02a64-313d-4d27-c088-ed5aa7cce4e2"
      },
      "outputs": [
        {
          "name": "stdout",
          "output_type": "stream",
          "text": [
            "3\n"
          ]
        }
      ],
      "source": [
        "# 5. Floor Division (//)\n",
        "# Divide one number by another and floor the result (integer division)\n",
        "floor_division_result = a // b  # floor_division_result will be 3\n",
        "print(floor_division_result)"
      ]
    },
    {
      "cell_type": "code",
      "execution_count": null,
      "metadata": {
        "colab": {
          "base_uri": "https://localhost:8080/"
        },
        "id": "oNV-mW1qFedh",
        "outputId": "59c7f3f8-9d06-4f1b-a97e-00793aa73c38"
      },
      "outputs": [
        {
          "name": "stdout",
          "output_type": "stream",
          "text": [
            "1\n"
          ]
        }
      ],
      "source": [
        "# 6. Modulus (%)\n",
        "# Get the remainder of the division of one number by another\n",
        "modulus_result = a % b  # modulus_result will be 1\n",
        "print (modulus_result)\n"
      ]
    },
    {
      "cell_type": "code",
      "execution_count": null,
      "metadata": {
        "id": "WXhEG26HFjqb"
      },
      "outputs": [],
      "source": [
        "# 7. Exponentiation (**)\n",
        "# Raise one number to the power of another\n",
        "exponentiation_result = a ** b  # exponentiation_result will be 1000\n",
        "print (exponentiation_result)\n"
      ]
    },
    {
      "cell_type": "code",
      "execution_count": null,
      "metadata": {
        "id": "57Zx9H4CFnwQ"
      },
      "outputs": [],
      "source": [
        "# 8. Unary Negation (-)\n",
        "# Negate a number\n",
        "negation_result = -a  # negation_result will be -10\n",
        "print (negation_result)\n"
      ]
    },
    {
      "cell_type": "code",
      "execution_count": null,
      "metadata": {
        "id": "OZm6PnMvFnng"
      },
      "outputs": [],
      "source": [
        "# 9. Unary Positive (+)\n",
        "# Return the number itself (usually redundant)\n",
        "positive_result = +a  # positive_result will be 10\n",
        "print (positive_result)\n"
      ]
    },
    {
      "cell_type": "code",
      "execution_count": null,
      "metadata": {
        "id": "0KrB6YERF2bp"
      },
      "outputs": [],
      "source": [
        "# Combining operations\n",
        "# Using parentheses to specify the order of operations\n",
        "combined_result = (a + b) * (a - b)  # combined_result will be 91\n",
        "print (combined_result)\n"
      ]
    },
    {
      "cell_type": "code",
      "execution_count": null,
      "metadata": {
        "id": "0Wdd15S-F787"
      },
      "outputs": [],
      "source": [
        "# Example of using arithmetic operations in expressions\n",
        "expression_result = a + b * 2 - (a // b) ** 3  # expression_result will be 12\n",
        "print (expression_result)\n"
      ]
    },
    {
      "cell_type": "code",
      "execution_count": null,
      "metadata": {
        "id": "tdtEh-ckGd-A"
      },
      "outputs": [],
      "source": []
    },
    {
      "cell_type": "code",
      "execution_count": null,
      "metadata": {
        "colab": {
          "base_uri": "https://localhost:8080/"
        },
        "id": "BQ_sA6_uGBGS",
        "outputId": "eb0b9075-b21b-45fe-a3fd-8507159041a8"
      },
      "outputs": [
        {
          "name": "stdout",
          "output_type": "stream",
          "text": [
            "11\n",
            "2\n"
          ]
        }
      ],
      "source": [
        "# Incrementing and decrementing\n",
        "# Increment a by 1\n",
        "a += 1  # a will be 11\n",
        "print (a)\n",
        "\n",
        "# Decrement b by 1\n",
        "b -= 1  # b will be 2\n",
        "print (b)\n"
      ]
    },
    {
      "cell_type": "code",
      "execution_count": null,
      "metadata": {
        "colab": {
          "background_save": true
        },
        "id": "2pRQAwG3GfbZ",
        "outputId": "3ec7e85d-d937-430b-d498-b367be38e846"
      },
      "outputs": [
        {
          "name": "stdout",
          "output_type": "stream",
          "text": [
            "15\n",
            "20\n"
          ]
        }
      ],
      "source": [
        "a=a+5\n",
        "print (a)\n",
        "\n",
        "a +=5\n",
        "print (a)"
      ]
    },
    {
      "cell_type": "code",
      "execution_count": null,
      "metadata": {
        "id": "aUBpyU_v3LSw"
      },
      "outputs": [],
      "source": [
        "# Compound operations\n",
        "# Multiply a by 2 and assign the result to a\n",
        "a *= 2  # a will be 22\n",
        "print (a)\n",
        "\n",
        "# Divide a by 2 and assign the result to a\n",
        "a /= 2  # a will be 11.0 (note the result is a float)\n",
        "print (a)\n",
        "\n",
        "# Floor divide a by 2 and assign the result to a\n",
        "a //= 2  # a will be 5.0\n",
        "print (a)\n",
        "\n",
        "# Raise b to the power of 3 and assign the result to b\n",
        "b **= 3  # b will be 8\n",
        "print (a)"
      ]
    },
    {
      "cell_type": "markdown",
      "metadata": {
        "id": "tB0bHnaIG_V-"
      },
      "source": [
        "# Comparison Operators"
      ]
    },
    {
      "cell_type": "code",
      "execution_count": null,
      "metadata": {
        "id": "1QnyWMdvGaSz"
      },
      "outputs": [],
      "source": [
        "# Define sample variables\n",
        "a = 10\n",
        "b = 3\n",
        "c = 10"
      ]
    },
    {
      "cell_type": "code",
      "execution_count": null,
      "metadata": {
        "id": "JhRpWtiQGfKT"
      },
      "outputs": [],
      "source": [
        "# 1. Equal to (==)\n",
        "# Check if two values are equal\n",
        "equal_result = (a == b)  # equal_result will be False\n",
        "print (equal_result)\n",
        "\n",
        "equal_result2 = (a == c)  # equal_result2 will be True\n",
        "print (less_equal_result2)"
      ]
    },
    {
      "cell_type": "code",
      "execution_count": null,
      "metadata": {
        "id": "zMaTdo2rGnZw"
      },
      "outputs": [],
      "source": [
        "# 2. Not equal to (!=)\n",
        "# Check if two values are not equal\n",
        "not_equal_result = (a != b)  # not_equal_result will be True\n",
        "print (not_equal_result)\n",
        "\n",
        "not_equal_result2 = (a != c)  # not_equal_result2 will be False\n",
        "print (not_equal_result2)\n"
      ]
    },
    {
      "cell_type": "code",
      "execution_count": null,
      "metadata": {
        "id": "wT_rBaqbGsVu"
      },
      "outputs": [],
      "source": [
        "# 3. Greater than (>)\n",
        "# Check if one value is greater than another\n",
        "greater_result = (a > b)  # greater_result will be True\n",
        "print (greater_result)\n",
        "\n",
        "greater_result2 = (a > c)  # greater_result2 will be False\n",
        "print (greater_result2)\n"
      ]
    },
    {
      "cell_type": "code",
      "execution_count": null,
      "metadata": {
        "id": "H97Vq2yxG-pk"
      },
      "outputs": [],
      "source": [
        "\n",
        "# 4. Less than (<)\n",
        "# Check if one value is less than another\n",
        "less_result = (a < b)  # less_result will be False\n",
        "print(less_result) # Print the result\n",
        "\n",
        "less_result2 = (a < c)  # less_result2 will be False\n",
        "print(less_result2) # Print the result\n"
      ]
    },
    {
      "cell_type": "code",
      "execution_count": null,
      "metadata": {
        "id": "RauDrXMnHJOA"
      },
      "outputs": [],
      "source": [
        "# 5. Greater than or equal to (>=)\n",
        "# Check if one value is greater than or equal to another\n",
        "greater_equal_result = (a >= b)  # greater_equal_result will be True\n",
        "print(greater_equal_result) # Print the result\n",
        "\n",
        "greater_equal_result2 = (a >= c)  # greater_equal_result2 will be True\n",
        "print(greater_equal_result2) # Print the result\n"
      ]
    },
    {
      "cell_type": "code",
      "execution_count": null,
      "metadata": {
        "id": "xQSxZYbHHLHB"
      },
      "outputs": [],
      "source": [
        "# 6. Less than or equal to (<=)\n",
        "# Check if one value is less than or equal to another\n",
        "less_equal_result = (a <= b)  # less_equal_result will be False\n",
        "print(less_equal_result) # Print the result\n",
        "\n",
        "less_equal_result2 = (a <= c)  # less_equal_result2 will be True\n",
        "print(less_equal_result2) # Print the result"
      ]
    },
    {
      "cell_type": "code",
      "execution_count": null,
      "metadata": {
        "id": "pYlHrzhTHVks"
      },
      "outputs": [],
      "source": [
        "# 7. Combining comparison operations with logical operators\n",
        "# Using logical AND (and) to combine comparisons\n",
        "combined_result_and = (a > b) and (a == c)  # combined_result_and will be True\n",
        "print (combined_result_and)\n",
        "\n",
        "# Using logical OR (or) to combine comparisons\n",
        "combined_result_or = (a < b) or (a == c)  # combined_result_or will be True\n",
        "print (combined_result_or)\n",
        "\n",
        "# Using logical NOT (not) to invert a comparison\n",
        "not_result = not (a == b)  # not_result will be True\n",
        "print (not_result)\n"
      ]
    },
    {
      "cell_type": "code",
      "execution_count": null,
      "metadata": {
        "id": "MKLAJwSH3cz9"
      },
      "outputs": [],
      "source": [
        "# 8. Comparison of different data types\n",
        "# Note: Direct comparison between incompatible types raises an error in Python 3\n",
        "int_value = 10\n",
        "float_value = 10.0\n",
        "str_value = \"10\"\n",
        "\n",
        "# Comparing integer and float\n",
        "int_float_comparison = (int_value == float_value)  # int_float_comparison will be True\n",
        "print  (int_float_comparison)\n",
        "\n",
        "# Comparing integer and string (will return False because they are different types)\n",
        "int_str_comparison = (int_value == str_value)  # int_str_comparison will be False\n",
        "print (int_str_comparison)\n"
      ]
    },
    {
      "cell_type": "markdown",
      "metadata": {
        "id": "e9stZS9WJR7p"
      },
      "source": [
        "# Logical Operators"
      ]
    },
    {
      "cell_type": "code",
      "execution_count": null,
      "metadata": {
        "id": "hlnaMBABJ0rR"
      },
      "outputs": [],
      "source": [
        "# Define sample boolean variables\n",
        "a = True\n",
        "b = False"
      ]
    },
    {
      "cell_type": "code",
      "execution_count": null,
      "metadata": {
        "id": "9EBoMoTaJ4_o"
      },
      "outputs": [],
      "source": [
        "# 1. Logical AND (and)\n",
        "# Returns True if both operands are True\n",
        "and_result1 = a and b  # and_result1 will be False\n",
        "print (and_result1)\n",
        "\n",
        "and_result2 = a and True  # and_result2 will be True\n",
        "print (and_result2)\n",
        "\n",
        "and_result3 = b and False  # and_result3 will be False\n",
        "print (and_result3)"
      ]
    },
    {
      "cell_type": "code",
      "execution_count": null,
      "metadata": {
        "id": "tjuQ_ZMyLobd"
      },
      "outputs": [],
      "source": [
        "# 2. Logical OR (or)\n",
        "# Returns True if at least one operand is True\n",
        "or_result1 = a or b  # or_result1 will be True\n",
        "or_result2 = b or False  # or_result2 will be False\n",
        "or_result3 = b or True  # or_result3 will be True"
      ]
    },
    {
      "cell_type": "code",
      "execution_count": null,
      "metadata": {
        "id": "r_8s5m4fLrTn"
      },
      "outputs": [],
      "source": [
        "# 3. Logical NOT (not)\n",
        "# Returns True if the operand is False, and False if the operand is True\n",
        "not_result1 = not a  # not_result1 will be False\n",
        "not_result2 = not b  # not_result2 will be True"
      ]
    },
    {
      "cell_type": "code",
      "execution_count": null,
      "metadata": {
        "id": "wKNgFQKfLtGx"
      },
      "outputs": [],
      "source": [
        "# Combining logical operators\n",
        "# Using logical AND to combine conditions\n",
        "combined_result_and = (a and not b)  # combined_result_and will be True"
      ]
    },
    {
      "cell_type": "code",
      "execution_count": null,
      "metadata": {
        "id": "bMAQzMc-Luu0"
      },
      "outputs": [],
      "source": [
        "# Using logical OR to combine conditions\n",
        "combined_result_or = (a or b and not a)  # combined_result_or will be True"
      ]
    },
    {
      "cell_type": "code",
      "execution_count": null,
      "metadata": {
        "id": "p0EfPmo2Lwff"
      },
      "outputs": [],
      "source": [
        "# Using multiple logical operators together\n",
        "combined_result_complex = (a and b) or (not a and not b)  # combined_result_complex will be False"
      ]
    },
    {
      "cell_type": "code",
      "execution_count": null,
      "metadata": {
        "id": "2sKaXzBgL0Ox"
      },
      "outputs": [],
      "source": [
        "# Logical operators with non-boolean values\n",
        "# In Python, non-zero numbers and non-empty strings are considered True, zero and empty strings are False\n",
        "x = 0\n",
        "y = 5\n",
        "z = \"\""
      ]
    },
    {
      "cell_type": "code",
      "execution_count": null,
      "metadata": {
        "id": "sAbtf7yaL2rC"
      },
      "outputs": [],
      "source": [
        "# Logical AND with non-boolean values\n",
        "and_non_boolean = x and y  # and_non_boolean will be 0 (False), since x is False\n",
        "and_non_boolean2 = y and z  # and_non_boolean2 will be \"\", since y is True but z is False"
      ]
    },
    {
      "cell_type": "code",
      "execution_count": null,
      "metadata": {
        "id": "nO-GXlRnL4aF"
      },
      "outputs": [],
      "source": [
        "# Logical OR with non-boolean values\n",
        "or_non_boolean = x or y  # or_non_boolean will be 5, since y is True\n",
        "or_non_boolean2 = z or x  # or_non_boolean2 will be 0, since both are False"
      ]
    },
    {
      "cell_type": "code",
      "execution_count": null,
      "metadata": {
        "id": "A-JMHC_2L6IY"
      },
      "outputs": [],
      "source": [
        "# Logical NOT with non-boolean values\n",
        "not_non_boolean = not x  # not_non_boolean will be True, since x is 0 (False)\n",
        "not_non_boolean2 = not y  # not_non_boolean2 will be False, since y is 5 (True)"
      ]
    },
    {
      "cell_type": "code",
      "execution_count": null,
      "metadata": {
        "id": "Y1WDYWc_L8BB"
      },
      "outputs": [],
      "source": [
        "# Example: Logical operators in conditions\n",
        "# Check if a number is within a range\n",
        "num = 10\n",
        "within_range = (num > 5 and num < 15)  # within_range will be True"
      ]
    },
    {
      "cell_type": "code",
      "execution_count": null,
      "metadata": {
        "id": "StMPwgPRL98K"
      },
      "outputs": [],
      "source": [
        "# Check if a number is outside a range\n",
        "outside_range = (num < 5 or num > 15)  # outside_range will be False"
      ]
    },
    {
      "cell_type": "code",
      "execution_count": null,
      "metadata": {
        "id": "D7xMAAzdL_wt"
      },
      "outputs": [],
      "source": [
        "# Example: Logical operators in list comprehensions\n",
        "# Filter even numbers from a list using logical AND\n",
        "numbers = [1, 2, 3, 4, 5, 6]\n",
        "even_numbers = [n for n in numbers if n % 2 == 0]  # even_numbers will be [2, 4, 6]"
      ]
    },
    {
      "cell_type": "code",
      "execution_count": null,
      "metadata": {
        "id": "XS508OITMBfL"
      },
      "outputs": [],
      "source": [
        "# Filter numbers greater than 3 and even using logical AND\n",
        "filtered_numbers = [n for n in numbers if n > 3 and n % 2 == 0]  # filtered_numbers will be [4, 6]"
      ]
    },
    {
      "cell_type": "markdown",
      "metadata": {
        "id": "cIxs80Y8JYd4"
      },
      "source": [
        "# Ternary Operators"
      ]
    },
    {
      "cell_type": "code",
      "execution_count": null,
      "metadata": {
        "colab": {
          "base_uri": "https://localhost:8080/"
        },
        "id": "kcu4IDA79eP0",
        "outputId": "b5363033-c477-4554-8cfc-d2a390f262a0"
      },
      "outputs": [
        {
          "name": "stdout",
          "output_type": "stream",
          "text": [
            "20\n"
          ]
        }
      ],
      "source": [
        "# Define sample variables\n",
        "a = 10\n",
        "b = 20\n",
        "max_value = 0\n",
        "\n",
        "if (a>b):\n",
        "    max_value = a\n",
        "else:\n",
        "    max_value = b\n",
        "\n",
        "print (max_value)\n",
        "\n",
        "\n"
      ]
    },
    {
      "cell_type": "code",
      "execution_count": null,
      "metadata": {
        "colab": {
          "base_uri": "https://localhost:8080/"
        },
        "id": "Vh6uWf2m99B1",
        "outputId": "cb7c8916-b8d6-4db0-f16e-89c929efb0f7"
      },
      "outputs": [
        {
          "name": "stdout",
          "output_type": "stream",
          "text": [
            "20\n"
          ]
        }
      ],
      "source": [
        "# Define sample variables\n",
        "a = 10\n",
        "b = 20\n",
        "max_value = 10\n",
        "\n",
        "if (b>a):\n",
        "    max_value = b\n",
        "print (max_value)"
      ]
    },
    {
      "cell_type": "code",
      "execution_count": null,
      "metadata": {
        "id": "gZOxSDoD97rf"
      },
      "outputs": [],
      "source": [
        "# 1. Basic Ternary Operation\n",
        "# Using the ternary operator to assign a value based on a condition\n",
        "# Syntax: value_if_true if condition else value_if_false\n",
        "max_value = a if a > b else b  # max_value will be 20"
      ]
    },
    {
      "cell_type": "code",
      "execution_count": null,
      "metadata": {
        "id": "w3axSH4HMOBF"
      },
      "outputs": [],
      "source": [
        "# Define sample variables\n",
        "a = 10\n",
        "b = 20"
      ]
    },
    {
      "cell_type": "code",
      "execution_count": null,
      "metadata": {
        "id": "juciai5TMP4F"
      },
      "outputs": [],
      "source": [
        "# 1. Basic Ternary Operation\n",
        "# Using the ternary operator to assign a value based on a condition\n",
        "# Syntax: value_if_true if condition else value_if_false\n",
        "max_value = a if a > b else b  # max_value will be 20"
      ]
    },
    {
      "cell_type": "code",
      "execution_count": null,
      "metadata": {
        "id": "IUqzx28XMRm7"
      },
      "outputs": [],
      "source": [
        "\n",
        "# 2. Nested Ternary Operation\n",
        "# Using nested ternary operators for multiple conditions\n",
        "# Find the maximum of three numbers\n",
        "c = 30\n",
        "max_value_nested = a if (a > b and a > c) else (b if b > c else c)  # max_value_nested will be 30"
      ]
    },
    {
      "cell_type": "code",
      "execution_count": null,
      "metadata": {
        "id": "Q2gz69mRMYg9"
      },
      "outputs": [],
      "source": [
        "# 3. Ternary Operation with Functions\n",
        "# Using the ternary operator to choose between function results\n",
        "def get_high_value():\n",
        "    return 100\n",
        "\n",
        "def get_low_value():\n",
        "    return 0\n",
        "\n",
        "# Choose function result based on condition\n",
        "value_based_on_condition = get_high_value() if a > b else get_low_value()  # value_based_on_condition will be 0"
      ]
    },
    {
      "cell_type": "code",
      "execution_count": null,
      "metadata": {
        "id": "jmQ5WkfUMaab"
      },
      "outputs": [],
      "source": [
        "# 4. Ternary Operation in List Comprehension\n",
        "# Using the ternary operator in a list comprehension\n",
        "# Create a list with \"even\" or \"odd\" based on each number's parity\n",
        "numbers = [1, 2, 3, 4, 5]\n",
        "parity = [\"even\" if n % 2 == 0 else \"odd\" for n in numbers]  # parity will be ['odd', 'even', 'odd', 'even', 'odd']"
      ]
    },
    {
      "cell_type": "code",
      "execution_count": null,
      "metadata": {
        "id": "mmJr9c2LMcPI"
      },
      "outputs": [],
      "source": [
        "# 5. Ternary Operation with Lambda Functions\n",
        "# Using the ternary operator in lambda functions\n",
        "# Define a lambda function that returns \"positive\" or \"negative\"\n",
        "check_sign = lambda x: \"positive\" if x >= 0 else \"negative\"\n",
        "sign_result = check_sign(-5)  # sign_result will be \"negative\""
      ]
    },
    {
      "cell_type": "code",
      "execution_count": null,
      "metadata": {
        "id": "8XaFJP4jMeFQ"
      },
      "outputs": [],
      "source": [
        "# 6. Ternary Operation for Variable Assignment\n",
        "# Using the ternary operator to set variable values based on a condition\n",
        "# Check if a number is positive, negative, or zero\n",
        "num = -10\n",
        "num_status = \"positive\" if num > 0 else (\"negative\" if num < 0 else \"zero\")  # num_status will be \"negative\""
      ]
    },
    {
      "cell_type": "code",
      "execution_count": null,
      "metadata": {
        "id": "hxekoTVtMf_p"
      },
      "outputs": [],
      "source": [
        "# 7. Ternary Operation with Strings\n",
        "# Using the ternary operator to choose between strings\n",
        "# Check if a string is empty\n",
        "str_value = \"Hello\"\n",
        "str_status = \"Empty\" if not str_value else \"Not Empty\"  # str_status will be \"Not Empty\""
      ]
    },
    {
      "cell_type": "code",
      "execution_count": null,
      "metadata": {
        "id": "JxDsCSiN4TE1"
      },
      "outputs": [],
      "source": [
        "\n",
        "# 8. Ternary Operation with Boolean Values\n",
        "# Using the ternary operator to choose between boolean values\n",
        "# Check if a number is even\n",
        "is_even = True if a % 2 == 0 else False  # is_even will be True\n",
        "\n",
        "# Example: Ternary Operation in Function Arguments\n",
        "# Using the ternary operator to set default function arguments\n",
        "def greet(name=None):\n",
        "    # Use the ternary operator to set a default greeting message\n",
        "    greeting = \"Hello, \" + (name if name else \"stranger\") + \"!\"\n",
        "    return greeting\n",
        "\n",
        "greeting_message = greet(\"Alice\")  # greeting_message will be \"Hello, Alice!\"\n",
        "default_greeting = greet()  # default_greeting will be \"Hello, stranger!\"\n"
      ]
    },
    {
      "cell_type": "markdown",
      "metadata": {
        "id": "08qjZskY5WXG"
      },
      "source": [
        "Switch Case vs If Else"
      ]
    },
    {
      "cell_type": "code",
      "execution_count": null,
      "metadata": {
        "id": "LrRJhzfM5cLp"
      },
      "outputs": [],
      "source": [
        "def switch_case(case):\n",
        "    if case == 1:\n",
        "        return \"Case 1 selected\"\n",
        "    elif case == 2:\n",
        "        return \"Case 2 selected\"\n",
        "    elif case == 3:\n",
        "        return \"Case 3 selected\"\n",
        "    else:\n",
        "        return \"Default case selected\"\n",
        "\n",
        "# Test cases\n",
        "print(switch_case(1))  # Output: \"Case 1 selected\"\n",
        "print(switch_case(2))  # Output: \"Case 2 selected\"\n",
        "print(switch_case(3))  # Output: \"Case 3 selected\"\n",
        "print(switch_case(4))  # Output: \"Default case selected\"\n"
      ]
    },
    {
      "cell_type": "code",
      "execution_count": null,
      "metadata": {
        "colab": {
          "base_uri": "https://localhost:8080/"
        },
        "id": "J0MYRmig5il4",
        "outputId": "8d5d73c7-1d03-473e-f002-14a80cc5bb58"
      },
      "outputs": [
        {
          "name": "stdout",
          "output_type": "stream",
          "text": [
            "Case 1 selected\n",
            "Case 2 selected\n",
            "Case 3 selected\n",
            "Default case selected\n"
          ]
        }
      ],
      "source": [
        "def switch_case(case):\n",
        "    match case:\n",
        "        case 1:\n",
        "            return \"Case 1 selected\"\n",
        "        case 2:\n",
        "            return \"Case 2 selected\"\n",
        "        case 3:\n",
        "            return \"Case 3 selected\"\n",
        "        case _:\n",
        "            return \"Default case selected\"\n",
        "\n",
        "# Test cases\n",
        "print(switch_case(1))  # Output: \"Case 1 selected\"\n",
        "print(switch_case(2))  # Output: \"Case 2 selected\"\n",
        "print(switch_case(3))  # Output: \"Case 3 selected\"\n",
        "print(switch_case(4))  # Output: \"Default case selected\"\n"
      ]
    },
    {
      "cell_type": "markdown",
      "metadata": {
        "id": "AeXjCdgjJr-p"
      },
      "source": [
        "# Print Format"
      ]
    },
    {
      "cell_type": "code",
      "execution_count": null,
      "metadata": {
        "id": "20XlVy1dj98K",
        "colab": {
          "base_uri": "https://localhost:8080/"
        },
        "outputId": "011bd96b-e4bc-4523-8ebc-ba99d0fbed6e"
      },
      "outputs": [
        {
          "output_type": "stream",
          "name": "stdout",
          "text": [
            "name =  Alice\n",
            "height =  5.6789\n",
            "Alice 5.6789\n",
            "Alice $5.68\n",
            "Alice   5.6789   mtr\n",
            "Alice 5.68 mtr\n"
          ]
        }
      ],
      "source": [
        "name = \"Alice\"\n",
        "height = 5.6789\n",
        "\n",
        "print (\"name = \", name)\n",
        "print (\"height = \", height)\n",
        "\n",
        "formatted_text = \"{} {:.4f}\".format(name, height)\n",
        "print(formatted_text)\n",
        "print (\"{} {}{:.2f}\".format(name, \"$\", height))\n",
        "\n",
        "print (name, \" \", height, \" \", \"mtr\")\n",
        "print (f\"{name} {height:.2f} mtr\")"
      ]
    },
    {
      "cell_type": "markdown",
      "metadata": {
        "id": "Peoi6PQrJymI"
      },
      "source": [
        "# String Operations\n",
        "\n",
        "lang = Python - Is a string - Array of Character Characters are going to be identified using numerical index\n",
        "\n",
        "lang - P y t h o n <br>\n",
        "index - 0 1 2 3 4 5"
      ]
    },
    {
      "cell_type": "code",
      "execution_count": null,
      "metadata": {
        "colab": {
          "base_uri": "https://localhost:8080/"
        },
        "id": "VmjtMnNyGmM4",
        "outputId": "f94f726f-e1b0-452a-eab2-3c67703c62ee"
      },
      "outputs": [
        {
          "output_type": "stream",
          "name": "stdout",
          "text": [
            "Character at index (2) - t\n",
            "Character at index (5) - n\n"
          ]
        }
      ],
      "source": [
        "lang = \"Python\"\n",
        "print (\"Character at index (2) - \" + lang[2])\n",
        "\n",
        "print (\"Character at index (5) - \" + lang[5])"
      ]
    },
    {
      "cell_type": "code",
      "execution_count": null,
      "metadata": {
        "id": "WLJc5pE5M3MU"
      },
      "outputs": [],
      "source": [
        "# Define a sample string\n",
        "sample_string = \"Hello, World!\"\n",
        "print (sample_string)"
      ]
    },
    {
      "cell_type": "code",
      "execution_count": null,
      "metadata": {
        "id": "DWpyfmRpM6Tx"
      },
      "outputs": [],
      "source": [
        "# 1. String Length\n",
        "# Get the length of the string\n",
        "length = len(sample_string)  # length will be 13\n",
        "print (length)\n"
      ]
    },
    {
      "cell_type": "code",
      "execution_count": null,
      "metadata": {
        "id": "O1id0AZdM8Uw",
        "colab": {
          "base_uri": "https://localhost:8080/"
        },
        "outputId": "fa47f92f-b2f1-4976-ec5f-e9b2dd98dd60"
      },
      "outputs": [
        {
          "output_type": "stream",
          "name": "stdout",
          "text": [
            "Hello, Alice!\n"
          ]
        }
      ],
      "source": [
        "# 2. String Concatenation\n",
        "# Combine two strings\n",
        "greeting = \"Hello\"\n",
        "name = \"Alice\"\n",
        "full_greeting = greeting + \", \" + name + \"!\"  # full_greeting will be \"Hello, Alice!\"\n",
        "print (full_greeting)"
      ]
    },
    {
      "cell_type": "code",
      "execution_count": null,
      "metadata": {
        "id": "XeIQvAYOM-Y_",
        "colab": {
          "base_uri": "https://localhost:8080/"
        },
        "outputId": "b1d9076e-0bf1-4c82-a08d-a32ce675cce6"
      },
      "outputs": [
        {
          "output_type": "stream",
          "name": "stdout",
          "text": [
            "HaHaHa\n"
          ]
        }
      ],
      "source": [
        "# 3. String Repetition\n",
        "# Repeat a string multiple times\n",
        "repeat_string = \"Ha\" * 3  # repeat_string will be \"HaHaHa\"\n",
        "print (repeat_string)\n"
      ]
    },
    {
      "cell_type": "code",
      "execution_count": null,
      "metadata": {
        "id": "6roCBfjKNAIt"
      },
      "outputs": [],
      "source": [
        "# 4. String Slicing\n",
        "# Extract a substring from the string\n",
        "substring = sample_string[7:12]  # substring will be \"World\"\n",
        "print (substring)"
      ]
    },
    {
      "cell_type": "code",
      "execution_count": null,
      "metadata": {
        "id": "MG7pEWDhNCGb",
        "colab": {
          "base_uri": "https://localhost:8080/"
        },
        "outputId": "35926ebf-c8e8-4309-e37d-34827fa382c2"
      },
      "outputs": [
        {
          "output_type": "stream",
          "name": "stdout",
          "text": [
            "['Singapore', 'Malaysia', 'Thailand']\n",
            "Singapore\n",
            "Malaysia\n",
            "Thailand\n",
            "Singapore\n",
            "Malaysia\n",
            "Thailand\n"
          ]
        }
      ],
      "source": [
        "# 5. String Split\n",
        "# Split the string into a list of words\n",
        "sample_string = \"Singapore, Malaysia, Thailand\"\n",
        "words = sample_string.split(\", \")  # words will be ['Hello', 'World!']\n",
        "print (words)\n",
        "print (words[0])\n",
        "print (words[1])\n",
        "print (words[2])\n",
        "#print (words[4])\n",
        "\n",
        "for word in words:\n",
        "    print (word)\n"
      ]
    },
    {
      "cell_type": "code",
      "execution_count": null,
      "metadata": {
        "id": "S2ZWalQFND_q"
      },
      "outputs": [],
      "source": [
        "# 6. String Join\n",
        "# Join a list of strings into a single string\n",
        "joined_string = \" \".join(words)  # joined_string will be \"Hello World!\"\n",
        "print (joined_string)"
      ]
    },
    {
      "cell_type": "code",
      "execution_count": null,
      "metadata": {
        "id": "dvGkyJ018esM",
        "colab": {
          "base_uri": "https://localhost:8080/"
        },
        "outputId": "77a63f1f-21fe-45e5-ff55-e0d6ffbdb674"
      },
      "outputs": [
        {
          "output_type": "stream",
          "name": "stdout",
          "text": [
            "SINGAPORE, MALAYSIA, THAILAND\n",
            "singapore, malaysia, thailand\n",
            "Singapore, malaysia, thailand\n",
            "Singapore, Malaysia, Thailand\n"
          ]
        }
      ],
      "source": [
        "# 7. String Case Conversion\n",
        "# Convert string to uppercase\n",
        "upper_string = sample_string.upper()  # upper_string will be \"HELLO, WORLD!\"\n",
        "print (upper_string)\n",
        "\n",
        "# Convert string to lowercase\n",
        "lower_string = sample_string.lower()  # lower_string will be \"hello, world!\"\n",
        "print (lower_string)\n",
        "\n",
        "# Capitalize the first letter of the string\n",
        "capitalized_string = sample_string.capitalize()  # capitalized_string will be \"Hello, world!\"\n",
        "print (capitalized_string)\n",
        "\n",
        "# Title case conversion (capitalize the first letter of each word)\n",
        "title_string = sample_string.title()  # title_string will be \"Hello, World!\"\n",
        "print (title_string)\n"
      ]
    },
    {
      "cell_type": "code",
      "execution_count": null,
      "metadata": {
        "id": "gDHoXvl58s9n",
        "colab": {
          "base_uri": "https://localhost:8080/"
        },
        "outputId": "e120c8d0-7426-49c6-a3fd-4126ab5f927a"
      },
      "outputs": [
        {
          "output_type": "stream",
          "name": "stdout",
          "text": [
            "Hello, World!\n",
            "Hello, Python!\n"
          ]
        }
      ],
      "source": [
        "# 8. String Replacement\n",
        "# Replace a substring within the string\n",
        "sample_string = \"Hello, World!\"\n",
        "print (sample_string)\n",
        "replaced_string = sample_string.replace(\"World\", \"Python\")  # replaced_string will be \"Hello, Python!\"\n",
        "print (replaced_string)\n"
      ]
    },
    {
      "cell_type": "code",
      "execution_count": null,
      "metadata": {
        "id": "tadJikbL8sCX",
        "colab": {
          "base_uri": "https://localhost:8080/"
        },
        "outputId": "4bdf3467-3044-42ff-ffed-991883fe8c3f"
      },
      "outputs": [
        {
          "output_type": "stream",
          "name": "stdout",
          "text": [
            "True\n",
            "False\n"
          ]
        }
      ],
      "source": [
        "# 9. Check if Substring Exists\n",
        "# Check if a substring is in the string\n",
        "contains_hello = \"Hello\" in sample_string  # contains_hello will be True\n",
        "print (contains_hello)\n",
        "\n",
        "contains_bye = \"Bye\" in sample_string  # contains_bye will be False\n",
        "print (contains_bye)"
      ]
    },
    {
      "cell_type": "code",
      "execution_count": null,
      "metadata": {
        "id": "Ce44-x7-83X0",
        "colab": {
          "base_uri": "https://localhost:8080/"
        },
        "outputId": "49b3077f-94a2-4b87-d8c7-3233aa181c8f"
      },
      "outputs": [
        {
          "output_type": "stream",
          "name": "stdout",
          "text": [
            "  Hello, World!  \n",
            "Hello, World!\n",
            "Hello, World!  \n",
            "  Hello, World!\n"
          ]
        }
      ],
      "source": [
        "# 10. String Stripping\n",
        "# Remove leading and trailing whitespace\n",
        "whitespace_string = \"  Hello, World!  \"\n",
        "print (whitespace_string)\n",
        "\n",
        "stripped_string = whitespace_string.strip()  # stripped_string will be \"Hello, World!\"\n",
        "print (stripped_string)\n",
        "\n",
        "# Remove leading whitespace\n",
        "left_stripped_string = whitespace_string.lstrip()  # left_stripped_string will be \"Hello, World!  \"\n",
        "print (left_stripped_string)\n",
        "\n",
        "# Remove trailing whitespace\n",
        "right_stripped_string = whitespace_string.rstrip()  # right_stripped_string will be \"  Hello, World!\"\n",
        "print (right_stripped_string)\n",
        "\n"
      ]
    },
    {
      "cell_type": "code",
      "execution_count": null,
      "metadata": {
        "id": "AXls3Yz4kGvD"
      },
      "outputs": [],
      "source": [
        "\n",
        "# 11. String Formatting\n",
        "# Using f-strings (formatted string literals)\n",
        "name = \"Alice\"\n",
        "age = 30\n",
        "formatted_string = f\"Name: {name}, Age: {age}\"  # formatted_string will be \"Name: Alice, Age: 30\"\n",
        "print (formatted_string)\n",
        "\n",
        "# Using the format() method\n",
        "formatted_string2 = \"Name: {}, Age: {}\".format(name, age)  # formatted_string2 will be \"Name: Alice, Age: 30\"\n",
        "print (formatted_string2)\n",
        "\n",
        "# Using percentage (%) formatting\n",
        "formatted_string3 = \"Name: %s, Age: %d\" % (name, age)  # formatted_string3 will be \"Name: Alice, Age: 30\"\n",
        "print (formatted_string3)"
      ]
    },
    {
      "cell_type": "code",
      "execution_count": null,
      "metadata": {
        "id": "ai5-TdYn85so"
      },
      "outputs": [],
      "source": [
        "# 12. Finding Substrings\n",
        "# Find the first occurrence of a substring\n",
        "index = sample_string.find(\"World\")  # index will be 7\n",
        "print (index)\n",
        "\n",
        "# Find the last occurrence of a substring\n",
        "rindex = sample_string.rfind(\"o\")  # rindex will be 8\n",
        "print (rindex)\n"
      ]
    },
    {
      "cell_type": "code",
      "execution_count": null,
      "metadata": {
        "id": "sgjhANfeVKPn"
      },
      "outputs": [],
      "source": [
        "# 13. String Counting\n",
        "# Count occurrences of a substring\n",
        "count = sample_string.count(\"o\")  # count will be 2\n",
        "print (count)\n"
      ]
    },
    {
      "cell_type": "code",
      "execution_count": null,
      "metadata": {
        "colab": {
          "base_uri": "https://localhost:8080/"
        },
        "id": "Mghtw1nlSuRR",
        "outputId": "5ce41a60-95e6-40bf-9a6a-3cc8a8eaf6dd"
      },
      "outputs": [
        {
          "output_type": "stream",
          "name": "stdout",
          "text": [
            "Hello \t World\n",
            "\n",
            "Hello \n",
            " World\n"
          ]
        }
      ],
      "source": [
        "# Escape character \"\\t\" \"\\n\"\n",
        "\n",
        "str1 = \"Hello\"\n",
        "str2 = \"World\"\n",
        "\n",
        "print (str1, \"\\t\", str2)    # \\t - tab\n",
        "print ()\n",
        "print (str1, \"\\n\", str2)  # \\n - new line"
      ]
    },
    {
      "cell_type": "code",
      "execution_count": null,
      "metadata": {
        "colab": {
          "base_uri": "https://localhost:8080/"
        },
        "id": "fsL9BFmNJGcx",
        "outputId": "a9934d23-18ef-48c6-ea29-9ef1143d30eb"
      },
      "outputs": [
        {
          "name": "stdout",
          "output_type": "stream",
          "text": [
            "My String -  Python is Fun!\n",
            "My first word -  Python\n",
            "My last word -  Fun!\n",
            "Middle word -  is\n"
          ]
        }
      ],
      "source": [
        "# Range lower index : upper index\n",
        "# From beginning - : upper index - Left of\n",
        "# To the end - lower index : - Right of\n",
        "# String - P y t h o n\n",
        "# index  - 0 1 2 3 4 5\n",
        "\n",
        "myStr = \"Python is Fun!\"\n",
        "\n",
        "print (\"My String - \" , myStr)\n",
        "print (\"My first word - \", myStr[:6])       # 0-6\n",
        "print (\"My last word - \", myStr [10:])      # 10 - till last\n",
        "\n",
        "print (\"Middle word - \", myStr[7:9])        # 7 - 9 , 7,8"
      ]
    },
    {
      "cell_type": "code",
      "execution_count": null,
      "metadata": {
        "colab": {
          "base_uri": "https://localhost:8080/"
        },
        "id": "vF5oUnUCIlg8",
        "outputId": "d66754b1-42e9-4a8f-da1f-d9e0d0ab91fc"
      },
      "outputs": [
        {
          "name": "stdout",
          "output_type": "stream",
          "text": [
            "My first word -  Python\n"
          ]
        }
      ],
      "source": [
        "print (\"My first word - \", myStr[0:6])  # Between starting index and end index"
      ]
    },
    {
      "cell_type": "code",
      "execution_count": null,
      "metadata": {
        "colab": {
          "base_uri": "https://localhost:8080/"
        },
        "id": "t4AqHIIMJ-_Q",
        "outputId": "d14b43c5-31f5-437c-ffdb-44463b8c8194"
      },
      "outputs": [
        {
          "name": "stdout",
          "output_type": "stream",
          "text": [
            "myStr is a number ?  False\n"
          ]
        }
      ],
      "source": [
        "print (\"myStr is a number ? \", myStr.isnumeric())"
      ]
    },
    {
      "cell_type": "code",
      "execution_count": null,
      "metadata": {
        "colab": {
          "base_uri": "https://localhost:8080/"
        },
        "id": "dBfmX9LoP-Xn",
        "outputId": "1452ba87-860b-47ac-efa5-e460d1a996c2"
      },
      "outputs": [
        {
          "name": "stdout",
          "output_type": "stream",
          "text": [
            "Enter your number u'\n",
            "Please enter the numeric value\n",
            "Enter your number i\n",
            "Please enter the numeric value\n",
            "Enter your number 9\n",
            "You have entered  9\n"
          ]
        }
      ],
      "source": [
        "isValidUserInput = False\n",
        "while not(isValidUserInput):                # isValidUserInput == False\n",
        "  num1 = input (\"Enter your number \")\n",
        "  if (num1.isnumeric()):\n",
        "    print (\"You have entered \", num1)\n",
        "    isValidUserInput = True\n",
        "  else:\n",
        "    print (\"Please enter the numeric value\")\n"
      ]
    },
    {
      "cell_type": "code",
      "execution_count": null,
      "metadata": {
        "id": "MrBrAY25BWf1"
      },
      "outputs": [],
      "source": [
        "import random\n",
        "\n",
        "# Generate a random number between 1 and 100\n",
        "target_number = random.randint(1, 100)\n",
        "print (target_number)\n",
        "\n",
        "guessed=17\n",
        "\n",
        "if (target_number > guessed ):\n",
        "    print (\"Too low\")\n",
        "else:\n",
        "    print (\"Too high\")"
      ]
    },
    {
      "cell_type": "code",
      "execution_count": null,
      "metadata": {
        "colab": {
          "base_uri": "https://localhost:8080/"
        },
        "id": "fr4igJ6EKmo_",
        "outputId": "86011e26-7f9e-46e4-f470-5673a7dcfdf6"
      },
      "outputs": [
        {
          "name": "stdout",
          "output_type": "stream",
          "text": [
            "Enter your number 7\n",
            "You have entered  7\n"
          ]
        }
      ],
      "source": [
        "num1 = int(input(\"Enter your number \"))\n",
        "print (\"You have entered \", num1)"
      ]
    },
    {
      "cell_type": "code",
      "execution_count": null,
      "metadata": {
        "colab": {
          "base_uri": "https://localhost:8080/"
        },
        "id": "umLWM3fBK_VH",
        "outputId": "391ef0e7-0265-4c1a-943d-a054ea1a728c"
      },
      "outputs": [
        {
          "name": "stdout",
          "output_type": "stream",
          "text": [
            "Enter your number 9\n",
            "You have entered  9\n"
          ]
        }
      ],
      "source": [
        "num1 = input (\"Enter your number \")\n",
        "if (num1.isnumeric()):\n",
        "    print (\"You have entered \", num1)\n",
        "else:\n",
        "    print (\"Please enter the numeric value\")"
      ]
    },
    {
      "cell_type": "code",
      "execution_count": null,
      "metadata": {
        "id": "Jtq3Of8jP9zk"
      },
      "outputs": [],
      "source": []
    },
    {
      "cell_type": "code",
      "execution_count": null,
      "metadata": {
        "colab": {
          "base_uri": "https://localhost:8080/"
        },
        "id": "8AVXjdEsNy4l",
        "outputId": "b639d3f3-c23d-46fe-a2d0-b153f401c4ca"
      },
      "outputs": [
        {
          "output_type": "stream",
          "name": "stdout",
          "text": [
            "c is the biggest number\n"
          ]
        }
      ],
      "source": [
        "a = 5\n",
        "b = 13\n",
        "c = 80\n",
        "\n",
        "if (a>b) and (a>c):\n",
        "  print (\"a is the biggest number\")\n",
        "elif  (b>a) and (b>c):\n",
        "  print (\"b is the biggest number\")\n",
        "else:\n",
        "  print (\"c is the biggest number\")"
      ]
    },
    {
      "cell_type": "markdown",
      "source": [
        "# Assignment 1\n"
      ],
      "metadata": {
        "id": "UBlWWOOy5TK6"
      }
    },
    {
      "cell_type": "code",
      "source": [
        "num1 = 5\n",
        "num2 = 3\n",
        "sum_result = num1 + num2\n",
        "print (\"Sum of\", num1, \"and\", num2, \"is\", sum_result)\n",
        "print (f\"Sum of {num1} and {num2} is {sum_result}\")\n"
      ],
      "metadata": {
        "colab": {
          "base_uri": "https://localhost:8080/"
        },
        "id": "c6yccULB5bmw",
        "outputId": "b93c2110-e5df-4ad5-8b1e-79e0f6865fca"
      },
      "execution_count": null,
      "outputs": [
        {
          "output_type": "stream",
          "name": "stdout",
          "text": [
            "Sum of 5 and 3 is 8\n",
            "Sum of 5 and 3 is 8\n"
          ]
        }
      ]
    },
    {
      "cell_type": "code",
      "source": [
        "user_name = input (\"Enter your name \")\n",
        "print (\"Hello\", user_name)"
      ],
      "metadata": {
        "colab": {
          "base_uri": "https://localhost:8080/"
        },
        "id": "fisiQpdL6HZ3",
        "outputId": "7f47f0cf-be39-4c81-9eb7-ba31bd9f8d95"
      },
      "execution_count": null,
      "outputs": [
        {
          "output_type": "stream",
          "name": "stdout",
          "text": [
            "Enter your name Bob\n",
            "Hello Bob\n"
          ]
        }
      ]
    },
    {
      "cell_type": "code",
      "source": [
        "user_input = input (\"Enter your number \")\n",
        "user_integer = int(user_input)\n",
        "print (\"You have entered \", user_integer)\n"
      ],
      "metadata": {
        "id": "IflpD3Of6v5R"
      },
      "execution_count": null,
      "outputs": []
    },
    {
      "cell_type": "markdown",
      "source": [],
      "metadata": {
        "id": "qmiu93QDD2D-"
      }
    },
    {
      "cell_type": "code",
      "source": [
        "user_input = input (\"Enter your number \")\n",
        "\n",
        "if (user_input.isnumeric()):\n",
        "  print (\"You have entered \", user_input)\n",
        "else:\n",
        "  print (\"Please enter the numeric value\")\n",
        "\n",
        "\n"
      ],
      "metadata": {
        "colab": {
          "base_uri": "https://localhost:8080/"
        },
        "id": "2YZp8iJf7gta",
        "outputId": "7b94e850-569c-4ed2-c05a-557633f3d806"
      },
      "execution_count": null,
      "outputs": [
        {
          "output_type": "stream",
          "name": "stdout",
          "text": [
            "Enter your number 5\n",
            "You have entered  5\n"
          ]
        }
      ]
    },
    {
      "cell_type": "code",
      "source": [
        "user_input = \"\"\n",
        "while (user_input.isnumeric() == False):\n",
        "    user_input = input (\"Enter your number \")\n",
        "    if (user_input.isnumeric()):\n",
        "        print (\"You have entered \", user_input)\n",
        "    else:\n",
        "        print (\"Please enter the numeric value\")\n",
        "\n",
        "\n",
        "\n"
      ],
      "metadata": {
        "colab": {
          "base_uri": "https://localhost:8080/"
        },
        "id": "UJj0JAtk86Gu",
        "outputId": "f58420de-4db9-4218-91e1-b9810f89853b"
      },
      "execution_count": null,
      "outputs": [
        {
          "output_type": "stream",
          "name": "stdout",
          "text": [
            "Enter your number Alice\n",
            "Please enter the numeric value\n",
            "Enter your number Bob \n",
            "Please enter the numeric value\n",
            "Enter your number 78\n",
            "You have entered  78\n"
          ]
        }
      ]
    },
    {
      "cell_type": "code",
      "source": [
        "user_input = input(\"Enter your number \")\n",
        "try:\n",
        "    user_integer = int(user_input)\n",
        "    print(\"You have entered \", user_integer)\n",
        "except ValueError:\n",
        "    print(\"Invalid input. Please enter a valid integer.\")"
      ],
      "metadata": {
        "id": "WFqu6RiiEUo9"
      },
      "execution_count": null,
      "outputs": []
    },
    {
      "cell_type": "code",
      "source": [
        "user_input = input (\"Enter your number \")\n",
        "if (user_input.isnumeric()):\n",
        "  print (\"You have entered \", user_input)\n",
        "  num1 = int(user_input)\n",
        "  print (\"You have entered \", num1)\n",
        "  if (num1 % 2 == 0):\n",
        "    print (num1, \"is an even number\")\n",
        "  else:\n",
        "    print (num1, \"is an odd number\")"
      ],
      "metadata": {
        "id": "bYeifOfW6izF"
      },
      "execution_count": null,
      "outputs": []
    },
    {
      "cell_type": "code",
      "source": [
        "# Prompt the user to enter a temperature in Celsius.\n",
        "temp_c = float(input(\"Enter a temperature in Celsius: \"))\n",
        "\n",
        "# Convert the Celsius temperature to Fahrenheit using the formula: Fahrenheit = (Celsius * 9/5) + 32.\n",
        "# Store the result in a variable called temperature_f.\n",
        "temperature_f = (temp_c * 9/5) + 32\n",
        "\n",
        "# Print the value of temperature_f.\n",
        "print(\"Temperature in Fahrenheit:\", temperature_f)\n"
      ],
      "metadata": {
        "colab": {
          "base_uri": "https://localhost:8080/"
        },
        "id": "R3Vu_VEz_00V",
        "outputId": "82692114-1ec1-4426-df70-56165f03c94f"
      },
      "execution_count": null,
      "outputs": [
        {
          "output_type": "stream",
          "name": "stdout",
          "text": [
            "Enter a temperature in Celsius: 72\n",
            "Temperature in Fahrenheit: 161.6\n"
          ]
        }
      ]
    },
    {
      "cell_type": "markdown",
      "source": [
        "# Loops"
      ],
      "metadata": {
        "id": "R74NkAJHDrvl"
      }
    },
    {
      "cell_type": "code",
      "source": [
        "# A more practical example\n",
        "counter = 0\n",
        "max_count = 5\n",
        "\n",
        "\n",
        "while True:\n",
        "    # This block of code will be executed at least once\n",
        "    print(f\"Counter value: {counter}\")\n",
        "    counter += 1\n",
        "\n",
        "    # Check the condition at the end of the loop\n",
        "    if counter >= max_count:\n",
        "        break  # Exit the loop if the condition is met\n"
      ],
      "metadata": {
        "colab": {
          "base_uri": "https://localhost:8080/"
        },
        "id": "5Rld9ITtDvqC",
        "outputId": "17324cbf-575f-47e2-b6bb-46e2698ccbd0"
      },
      "execution_count": null,
      "outputs": [
        {
          "output_type": "stream",
          "name": "stdout",
          "text": [
            "Counter value: 0\n",
            "Counter value: 1\n",
            "Counter value: 2\n",
            "Counter value: 3\n",
            "Counter value: 4\n"
          ]
        }
      ]
    },
    {
      "cell_type": "code",
      "source": [
        "# A more practical example\n",
        "counter = 0\n",
        "max_count = 5\n",
        "\n",
        "\n",
        "while True:\n",
        "    if counter == 2:\n",
        "        continue\n",
        "\n",
        "    # This block of code will be executed at least once\n",
        "    print(f\"Counter value: {counter}\")\n",
        "    counter += 1\n",
        "\n",
        "    # Check the condition at the end of the loop\n",
        "    if counter >= max_count:\n",
        "        break  # Exit the loop if the condition is met\n"
      ],
      "metadata": {
        "colab": {
          "base_uri": "https://localhost:8080/",
          "height": 245
        },
        "id": "gUMv5SByH-Lu",
        "outputId": "9b3fa5e2-ad9c-4771-cc2c-983bdd079f0a"
      },
      "execution_count": null,
      "outputs": [
        {
          "output_type": "stream",
          "name": "stdout",
          "text": [
            "Counter value: 0\n",
            "Counter value: 1\n"
          ]
        },
        {
          "output_type": "error",
          "ename": "KeyboardInterrupt",
          "evalue": "",
          "traceback": [
            "\u001b[0;31m---------------------------------------------------------------------------\u001b[0m",
            "\u001b[0;31mKeyboardInterrupt\u001b[0m                         Traceback (most recent call last)",
            "\u001b[0;32m<ipython-input-28-30f5431f71af>\u001b[0m in \u001b[0;36m<cell line: 6>\u001b[0;34m()\u001b[0m\n\u001b[1;32m      6\u001b[0m \u001b[0;32mwhile\u001b[0m \u001b[0;32mTrue\u001b[0m\u001b[0;34m:\u001b[0m\u001b[0;34m\u001b[0m\u001b[0;34m\u001b[0m\u001b[0m\n\u001b[1;32m      7\u001b[0m     \u001b[0;32mif\u001b[0m \u001b[0mcounter\u001b[0m \u001b[0;34m==\u001b[0m \u001b[0;36m2\u001b[0m\u001b[0;34m:\u001b[0m\u001b[0;34m\u001b[0m\u001b[0;34m\u001b[0m\u001b[0m\n\u001b[0;32m----> 8\u001b[0;31m         \u001b[0;32mcontinue\u001b[0m\u001b[0;34m\u001b[0m\u001b[0;34m\u001b[0m\u001b[0m\n\u001b[0m\u001b[1;32m      9\u001b[0m \u001b[0;34m\u001b[0m\u001b[0m\n\u001b[1;32m     10\u001b[0m     \u001b[0;31m# This block of code will be executed at least once\u001b[0m\u001b[0;34m\u001b[0m\u001b[0;34m\u001b[0m\u001b[0m\n",
            "\u001b[0;31mKeyboardInterrupt\u001b[0m: "
          ]
        }
      ]
    },
    {
      "cell_type": "code",
      "source": [
        "fruits = [\"apple\",\"banana\",\"cherry\"]\n",
        "for x in fruits:\n",
        "    print(x)"
      ],
      "metadata": {
        "colab": {
          "base_uri": "https://localhost:8080/"
        },
        "id": "L36iRfD8JZj0",
        "outputId": "6edb4f6b-9775-4957-ae0f-2d84b8d0a1ee"
      },
      "execution_count": null,
      "outputs": [
        {
          "output_type": "stream",
          "name": "stdout",
          "text": [
            "apple\n",
            "banana\n",
            "cherry\n"
          ]
        }
      ]
    },
    {
      "cell_type": "code",
      "source": [
        "for x in range(6):\n",
        "    print(x)"
      ],
      "metadata": {
        "colab": {
          "base_uri": "https://localhost:8080/"
        },
        "id": "PD4ujgaXJu-C",
        "outputId": "999edf42-eacc-4350-899e-3bf9d504a4aa"
      },
      "execution_count": null,
      "outputs": [
        {
          "output_type": "stream",
          "name": "stdout",
          "text": [
            "0\n",
            "1\n",
            "2\n",
            "3\n",
            "4\n",
            "5\n"
          ]
        }
      ]
    },
    {
      "cell_type": "code",
      "source": [
        "for x in range(0, 11, 2):\n",
        "    print(x)"
      ],
      "metadata": {
        "colab": {
          "base_uri": "https://localhost:8080/"
        },
        "id": "gJZ3J2DcJ_Df",
        "outputId": "a63a2256-eed5-44ff-b22d-07d42d556e64"
      },
      "execution_count": null,
      "outputs": [
        {
          "output_type": "stream",
          "name": "stdout",
          "text": [
            "0\n",
            "2\n",
            "4\n",
            "6\n",
            "8\n",
            "10\n"
          ]
        }
      ]
    },
    {
      "cell_type": "code",
      "source": [
        "adj = [\"red\", \"big\", \"tasty\"]\n",
        "fruits = [\"apple\", \"banana\", \"cherry\"]\n",
        "for x in adj:\n",
        "    for y in fruits:\n",
        "        print(x, y)"
      ],
      "metadata": {
        "colab": {
          "base_uri": "https://localhost:8080/"
        },
        "id": "vnKZ6QiSKevg",
        "outputId": "604220aa-8006-40e1-eab3-514301a245ac"
      },
      "execution_count": null,
      "outputs": [
        {
          "output_type": "stream",
          "name": "stdout",
          "text": [
            "red apple\n",
            "red banana\n",
            "red cherry\n",
            "big apple\n",
            "big banana\n",
            "big cherry\n",
            "tasty apple\n",
            "tasty banana\n",
            "tasty cherry\n"
          ]
        }
      ]
    },
    {
      "cell_type": "markdown",
      "source": [
        "# Functions\n"
      ],
      "metadata": {
        "id": "PhhgJ7LeRJDE"
      }
    },
    {
      "cell_type": "code",
      "source": [
        "def greet(name):                        # def - Keyword to deine a function\n",
        "    print(\"Hello, \" + name + \"!\")       # greet - function name\n",
        "                                        # () - No parameters\n",
        "                                        # (name) - 1 paramater - name - Parameter\n",
        "\n",
        "\n",
        "greet(\"Alice\")  # Output: Hello, Alice!    # Call the function by name with argument\n",
        "                                           # greet - function  ; \"Alice\" - Argument\n",
        "greet(\"Bob\")    # Output: Hello, Bob\n",
        "greet(\"Charlie\")  # Output: Hello, Charlie\n"
      ],
      "metadata": {
        "colab": {
          "base_uri": "https://localhost:8080/"
        },
        "id": "C3CXHZ_4ROzi",
        "outputId": "9b79f569-aa83-4966-97e8-e95183930ba2"
      },
      "execution_count": null,
      "outputs": [
        {
          "output_type": "stream",
          "name": "stdout",
          "text": [
            "Hello, Alice!\n",
            "Hello, Bob!\n",
            "Hello, Charlie!\n"
          ]
        }
      ]
    },
    {
      "cell_type": "code",
      "source": [
        "# Write a Python function named double_number that takes a number as input and returns the double of the number.##\n",
        "\n",
        "def double_number(number):\n",
        "    return number * 2\n",
        "\n",
        "# Example usage:\n",
        "result = double_number(5)\n",
        "print(result)  # Output: 10"
      ],
      "metadata": {
        "colab": {
          "base_uri": "https://localhost:8080/"
        },
        "id": "JdxpeFK0SviP",
        "outputId": "d81ea378-a45b-4a33-9bde-4a9674ea6d9e"
      },
      "execution_count": null,
      "outputs": [
        {
          "output_type": "stream",
          "name": "stdout",
          "text": [
            "10\n"
          ]
        }
      ]
    },
    {
      "cell_type": "code",
      "source": [
        "#Even - Exactly divisible by 2. Remainder is 0\n",
        "# 6/ 2 => Q 3, R 0\n",
        "# 5/2 => Q 2, R 1\n",
        "\n",
        "def is_even(number):\n",
        "    if number % 2 == 0:\n",
        "        return True\n",
        "    else:\n",
        "        return False\n",
        "\n",
        "# Example usage:\n",
        "result = is_even(6)\n",
        "print(result)  # Output: True"
      ],
      "metadata": {
        "id": "UIoBVtUWTnsS"
      },
      "execution_count": null,
      "outputs": []
    },
    {
      "cell_type": "code",
      "source": [
        "def calculate_sum(numbers):\n",
        "    total = 0\n",
        "    for num in numbers:\n",
        "        total += num\n",
        "    return total\n",
        "\n",
        "# Example usage:\n",
        "result = calculate_sum([1, 2, 3, 4, 5])\n",
        "print(result)  # Output: 15"
      ],
      "metadata": {
        "colab": {
          "base_uri": "https://localhost:8080/"
        },
        "id": "lJu3Kwc-UbyI",
        "outputId": "3ada8215-6f3a-4e2d-d22f-27d1e32ab1e6"
      },
      "execution_count": null,
      "outputs": [
        {
          "output_type": "stream",
          "name": "stdout",
          "text": [
            "15\n"
          ]
        }
      ]
    },
    {
      "cell_type": "code",
      "source": [
        "# n! = 1 * 2 * 3 * .... n\n",
        "# 1! = 1                => 1!\n",
        "# 2! = 1 * 2            => 1! * 2\n",
        "# 3! = 1 * 2 * 3        => 2! * 3\n",
        "# 4! = 1 * 2 * 3 * 4    => 3! * 4\n",
        "# n! = n * (n-1)!\n",
        "\n",
        "def factorial(n):\n",
        "    if n == 0:\n",
        "        return 1\n",
        "    else:\n",
        "        return n * factorial(n - 1)\n",
        "\n",
        "# Example usage:\n",
        "result = factorial(5)\n",
        "print(result)  # Output: 120\n"
      ],
      "metadata": {
        "id": "7GfEJ847VIYz"
      },
      "execution_count": null,
      "outputs": []
    },
    {
      "cell_type": "code",
      "source": [],
      "metadata": {
        "id": "m4ft3h5Z6Lhh"
      },
      "execution_count": null,
      "outputs": []
    },
    {
      "cell_type": "code",
      "source": [
        "# Prompt the user to enter a temperature in Celsius.\n",
        "# Convert the Celsius temperature to Fahrenheit using the formula: Fahrenheit = (Celsius * 9/5) + 32.\n",
        "# Store the result in a variable called temperature_f.\n",
        "# Print the value of temperature_f.\n",
        "\n",
        "# Convert the Celsius temperature to Fahrenheit using the formula:\n",
        "Fahrenheit = (Celsius * 9/5) + 32.\n",
        "\n",
        "\n",
        "# Store the result in a variable called temperature_f.\n",
        "temperature_f = (temp_c * 9/5) + 32\n",
        "\n",
        "\n",
        "# Print the value of temperature_f.\n",
        "print(\"Temperature in Fahrenheit:\", temperature_f)"
      ],
      "metadata": {
        "id": "lSM_YsBf6Ehc"
      },
      "execution_count": null,
      "outputs": []
    },
    {
      "cell_type": "code",
      "source": [],
      "metadata": {
        "id": "qctEUnkN6EdT"
      },
      "execution_count": null,
      "outputs": []
    }
  ],
  "metadata": {
    "colab": {
      "provenance": [],
      "toc_visible": true
    },
    "kernelspec": {
      "display_name": "Python 3",
      "name": "python3"
    },
    "language_info": {
      "name": "python"
    }
  },
  "nbformat": 4,
  "nbformat_minor": 0
}