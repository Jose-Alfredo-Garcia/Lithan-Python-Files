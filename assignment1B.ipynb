{
  "nbformat": 4,
  "nbformat_minor": 0,
  "metadata": {
    "colab": {
      "provenance": [],
      "authorship_tag": "ABX9TyNWqqal3HdpZ0p9xgAju8hu",
      "include_colab_link": true
    },
    "kernelspec": {
      "name": "python3",
      "display_name": "Python 3"
    },
    "language_info": {
      "name": "python"
    }
  },
  "cells": [
    {
      "cell_type": "markdown",
      "metadata": {
        "id": "view-in-github",
        "colab_type": "text"
      },
      "source": [
        "<a href=\"https://colab.research.google.com/github/Jose-Alfredo-Garcia/CPP-what-I-did/blob/mainBranch/assignment1B.ipynb\" target=\"_parent\"><img src=\"https://colab.research.google.com/assets/colab-badge.svg\" alt=\"Open In Colab\"/></a>"
      ]
    },
    {
      "cell_type": "code",
      "execution_count": null,
      "metadata": {
        "id": "iUu8TcLg_naN"
      },
      "outputs": [],
      "source": [
        "import sys"
      ]
    },
    {
      "cell_type": "code",
      "source": [
        "def numCheck(input):\n",
        "  if input.isnumeric():\n",
        "    return int(input)\n",
        "  else:\n",
        "    return \"Not a number\"\n",
        "\n",
        "inputNum = input(\"Input a number: \")\n",
        "numCheck(inputNum)"
      ],
      "metadata": {
        "colab": {
          "base_uri": "https://localhost:8080/"
        },
        "id": "hrHOa3mL_4I1",
        "outputId": "55f398af-6bf8-43ba-a773-ac4b567c479d"
      },
      "execution_count": 5,
      "outputs": [
        {
          "name": "stdout",
          "output_type": "stream",
          "text": [
            "Input a number: 1\n"
          ]
        },
        {
          "output_type": "execute_result",
          "data": {
            "text/plain": [
              "1"
            ]
          },
          "metadata": {},
          "execution_count": 5
        }
      ]
    },
    {
      "cell_type": "code",
      "source": [
        "def doubleNum(input):\n",
        "  if numCheck(input):\n",
        "    number = int(input)\n",
        "    return number * 2\n",
        "  else:\n",
        "    print(\"Not a number\")"
      ],
      "metadata": {
        "id": "SRRQGbniAkZN"
      },
      "execution_count": null,
      "outputs": []
    },
    {
      "cell_type": "code",
      "source": [
        "def count_char(input):\n",
        "  print(len(input))"
      ],
      "metadata": {
        "colab": {
          "base_uri": "https://localhost:8080/"
        },
        "id": "Jbhs_X8FTc3_",
        "outputId": "807a27da-9665-4813-bd38-3e9a2a9da5de"
      },
      "execution_count": 6,
      "outputs": [
        {
          "output_type": "execute_result",
          "data": {
            "text/plain": [
              "3"
            ]
          },
          "metadata": {},
          "execution_count": 6
        }
      ]
    },
    {
      "cell_type": "code",
      "source": [
        "def odd_or_even(input):\n",
        "  number = int(len(input))\n",
        "  if (number%2 == 0):\n",
        "    return \"Even\"\n",
        "  else:\n",
        "    return \"Odd\""
      ],
      "metadata": {
        "colab": {
          "base_uri": "https://localhost:8080/",
          "height": 35
        },
        "id": "9MDHJEUMTzQU",
        "outputId": "100941db-0476-4ad9-8319-12570e47a7ec"
      },
      "execution_count": 8,
      "outputs": [
        {
          "output_type": "execute_result",
          "data": {
            "text/plain": [
              "'Odd'"
            ],
            "application/vnd.google.colaboratory.intrinsic+json": {
              "type": "string"
            }
          },
          "metadata": {},
          "execution_count": 8
        }
      ]
    },
    {
      "cell_type": "code",
      "source": [
        "def min_number(num1, num2):\n",
        "  if (num1.isnumeric()) and (num2.isnumeric()):\n",
        "    if (num1 > num2): return num2\n",
        "    else: return num1\n",
        "  else: return \"Need 2 numbers\"\n",
        "\n",
        "input1 = input(\"First Input: \")\n",
        "input2 = input(\"Second Input: \")\n",
        "min_number(input1, input2)"
      ],
      "metadata": {
        "colab": {
          "base_uri": "https://localhost:8080/",
          "height": 71
        },
        "id": "zzCAg4z-UZ_U",
        "outputId": "f2a93204-4141-4d14-e884-20a2fc77e354"
      },
      "execution_count": 12,
      "outputs": [
        {
          "name": "stdout",
          "output_type": "stream",
          "text": [
            "First Input: 1\n",
            "Second Input: a\n"
          ]
        },
        {
          "output_type": "execute_result",
          "data": {
            "text/plain": [
              "'Need 2 numbers'"
            ],
            "application/vnd.google.colaboratory.intrinsic+json": {
              "type": "string"
            }
          },
          "metadata": {},
          "execution_count": 12
        }
      ]
    },
    {
      "cell_type": "code",
      "source": [
        "\"\"\"\n",
        "def form_sum_list():\n",
        "  # try block to handle the exception\n",
        "  try:\n",
        "    print(\"Input integers to add into a list, input a non-integer to stop: \\n\")\n",
        "    my_list = []\n",
        "    while True:\n",
        "      my_list.append(int(input()))\n",
        "  # if the input is not-integer, just print the list\n",
        "  except:\n",
        "    print(\"\\n\", my_list, \"\\n\", sum(my_list))\n",
        "form_sum_list()\n",
        "\"\"\"\n",
        "def calculate_sum(input_list):\n",
        "  # NameError not recognized....\n",
        "  try:\n",
        "    print(sum(input_list))\n",
        "  except:\n",
        "    print(\"Something is wrong with the list\")\n",
        "\n",
        "calculate_sum([1,2,3,4,5,6,7,8,9])"
      ],
      "metadata": {
        "colab": {
          "base_uri": "https://localhost:8080/"
        },
        "id": "ZPWQ7afNXSl8",
        "outputId": "17ae20d6-594a-4664-e664-429948bc5ffd"
      },
      "execution_count": 22,
      "outputs": [
        {
          "output_type": "stream",
          "name": "stdout",
          "text": [
            "45\n"
          ]
        }
      ]
    },
    {
      "cell_type": "code",
      "source": [
        "'''\n",
        "for num in range(2,101):\n",
        "    prime = True\n",
        "    for i in range(2,num):\n",
        "        if (num%i==0):\n",
        "            prime = False\n",
        "    if prime:\n",
        "       print (num)\n",
        "'''\n",
        "def print_numbers_in_list(inputList):\n",
        "  primeList = []\n",
        "  for i in inputList:\n",
        "    prime = True\n",
        "    for z in range(2,i):\n",
        "      if (i%z==0): prime = False\n",
        "    if prime:\n",
        "      primeList.append(i)\n",
        "  return print(primeList)\n",
        "\n",
        "listed = [1,2,3,4,5,6,7,8,9]\n",
        "print_numbers_in_list(listed)"
      ],
      "metadata": {
        "colab": {
          "base_uri": "https://localhost:8080/"
        },
        "id": "LkEC0zaFcv8h",
        "outputId": "e5df4007-b9d2-490f-b97f-0cacd3c84837"
      },
      "execution_count": 25,
      "outputs": [
        {
          "output_type": "stream",
          "name": "stdout",
          "text": [
            "[1, 2, 3, 5, 7]\n"
          ]
        }
      ]
    },
    {
      "cell_type": "code",
      "source": [
        "import math\n",
        "\n",
        "def calculate_factorial(input):\n",
        "  if (input.isnumeric()):\n",
        "    number = int(input)\n",
        "    print(math.factorial(number))\n",
        "  else:\n",
        "    print(\"Not a number\")\n",
        "\n",
        "inputVal = input(\"Input a number: \")\n",
        "calculate_factorial(inputVal)"
      ],
      "metadata": {
        "colab": {
          "base_uri": "https://localhost:8080/"
        },
        "id": "fkeprA4pj-zd",
        "outputId": "06d1309a-0670-4d7f-fb00-a0649b38e8bd"
      },
      "execution_count": 28,
      "outputs": [
        {
          "output_type": "stream",
          "name": "stdout",
          "text": [
            "Input a number: 3\n",
            "6\n"
          ]
        }
      ]
    }
  ]
}