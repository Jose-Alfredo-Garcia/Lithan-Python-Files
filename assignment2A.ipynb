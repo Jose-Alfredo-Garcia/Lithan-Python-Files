{
  "nbformat": 4,
  "nbformat_minor": 0,
  "metadata": {
    "colab": {
      "provenance": [],
      "authorship_tag": "ABX9TyPpdhK8ptM7C995sPj/pNVA",
      "include_colab_link": true
    },
    "kernelspec": {
      "name": "python3",
      "display_name": "Python 3"
    },
    "language_info": {
      "name": "python"
    }
  },
  "cells": [
    {
      "cell_type": "markdown",
      "metadata": {
        "id": "view-in-github",
        "colab_type": "text"
      },
      "source": [
        "<a href=\"https://colab.research.google.com/github/Jose-Alfredo-Garcia/CPP-what-I-did/blob/mainBranch/assignment2A.ipynb\" target=\"_parent\"><img src=\"https://colab.research.google.com/assets/colab-badge.svg\" alt=\"Open In Colab\"/></a>"
      ]
    },
    {
      "cell_type": "code",
      "execution_count": 29,
      "metadata": {
        "id": "J3Y9SOqp2khv"
      },
      "outputs": [],
      "source": [
        "import sys\n",
        "import numpy"
      ]
    },
    {
      "cell_type": "code",
      "source": [
        "'''\n",
        "Task 1: Convert Kilos to Pounds\n",
        "\n",
        "    Create a Python list weight_kg with weight values\n",
        "    Convert weight_kg to numpy array np_weight_kg\n",
        "    Convert np_weight_kg to weight in Pounds np_weight_lbs\n",
        "\n",
        "Hint: Use the conversion factor of 2.2 pounds per kilogram\n",
        "'''\n",
        "kg_weight = numpy.array([1,2,3])\n",
        "pound_weight = kg_weight * 2.2\n",
        "print(pound_weight)"
      ],
      "metadata": {
        "colab": {
          "base_uri": "https://localhost:8080/"
        },
        "id": "6DC6o8f123eb",
        "outputId": "7b4f94c7-73ce-4096-87aa-6db13ba9bf65"
      },
      "execution_count": 12,
      "outputs": [
        {
          "output_type": "stream",
          "name": "stdout",
          "text": [
            "[2.2 4.4 6.6]\n"
          ]
        }
      ]
    },
    {
      "cell_type": "code",
      "source": [
        "'''\n",
        "Task 2: Calculate Mean and Median\n",
        "\n",
        "    Write a NumPy program to calculate the mean and median of the weights in pounds. Print out the results.\n",
        "'''\n",
        "kg_weight = numpy.array([1,1,2,2,3,3,4,4,0])\n",
        "pound_weight = kg_weight * 2.2\n",
        "print(numpy.mean(pound_weight))\n",
        "print(numpy.median(pound_weight))"
      ],
      "metadata": {
        "colab": {
          "base_uri": "https://localhost:8080/"
        },
        "id": "6vI7Smlx27kj",
        "outputId": "e3ee1cf6-0152-44a4-9b74-8e41457bfdbf"
      },
      "execution_count": 13,
      "outputs": [
        {
          "output_type": "stream",
          "name": "stdout",
          "text": [
            "4.888888888888889\n",
            "4.4\n"
          ]
        }
      ]
    },
    {
      "cell_type": "code",
      "source": [
        "'''\n",
        "Task 3: Create 2D Array\n",
        "\n",
        "    Create a NumPy array np_height_m containing the heights of individuals in meters.\n",
        "    Combine this array with the weights in pounds np_weight_lbs to create a 2D array np_person_info where each row represents an individual's height and weight.\n",
        "    Print the resulting 2D array.\n",
        "'''\n",
        "\n",
        "pound_weight = numpy.array([10.00,20.00,30.00,40.00,50.00,60.00,70.00])\n",
        "height = numpy.array([1.70,1.70,1.60,1.60,1.80,1.80,1.50])\n",
        "twoDArray = numpy.vstack((height, pound_weight))\n",
        "print(twoDArray)"
      ],
      "metadata": {
        "colab": {
          "base_uri": "https://localhost:8080/"
        },
        "id": "a89wPiYn298s",
        "outputId": "20d966f8-83b3-4935-c1ee-d90aff20247b"
      },
      "execution_count": 13,
      "outputs": [
        {
          "output_type": "stream",
          "name": "stdout",
          "text": [
            "[[ 1.7  1.7  1.6  1.6  1.8  1.8  1.5]\n",
            " [10.  20.  30.  40.  50.  60.  70. ]]\n"
          ]
        }
      ]
    },
    {
      "cell_type": "code",
      "source": [
        "'''\n",
        "Task 4: Calculate BMI\n",
        "\n",
        "    Write a function that takes the 2D array np_person_info created in Task 3 as input.\n",
        "    Calculate the Body Mass Index (BMI) for each individual as bmi_array. BMI is calculated using the formula: BMI = weight (kg) / (height (m) ** 2).\n",
        "    Print the BMI values for each individual.\n",
        "'''\n",
        "def BMI(inputArray):\n",
        "  new_array = []\n",
        "  if (len(inputArray[0]) == len(inputArray[1])):\n",
        "    for i in range(len(inputArray[0])):\n",
        "      bmiValueDecimal = (inputArray[1][i]) / (( (inputArray[0][i]) ** 2 ))\n",
        "      bmiValue = round(bmiValueDecimal, 2)\n",
        "      new_array.append(bmiValue)\n",
        "    return new_array\n",
        "  else:\n",
        "    print(\"Wrong Input\")\n",
        "  return 0\n",
        "\n",
        "pound_weight = numpy.array([130.00,140.00,150.00,160.00,170.00,180.00,190.00])\n",
        "height = numpy.array([1.70,1.70,1.60,1.60,1.80,1.80,1.50])\n",
        "\n",
        "# turning pounds into kg\n",
        "kg_heightArray = numpy.vstack((height, pound_weight * 0.45))\n",
        "  #print(kg_heightArray)\n",
        "BMI(kg_heightArray)"
      ],
      "metadata": {
        "colab": {
          "base_uri": "https://localhost:8080/"
        },
        "id": "son7AaEm2-Hh",
        "outputId": "07275849-6754-4595-bf6c-89158d97b1f8"
      },
      "execution_count": 39,
      "outputs": [
        {
          "output_type": "execute_result",
          "data": {
            "text/plain": [
              "[20.24, 21.8, 26.37, 28.12, 23.61, 25.0, 38.0]"
            ]
          },
          "metadata": {},
          "execution_count": 39
        }
      ]
    },
    {
      "cell_type": "code",
      "source": [
        "'''\n",
        "Task 5: Filter Individuals by BMI\n",
        "\n",
        "    Write a NumPy program to append bmi_array to np_person_info\n",
        "    Filter individuals from the resulting array who have a BMI greater than 25.\n",
        "    Print the filtered results.\n",
        "'''\n",
        "def BMI(inputArray):\n",
        "  new_array = []\n",
        "  if (len(inputArray[0]) == len(inputArray[1])):\n",
        "    for i in range(len(inputArray[0])):\n",
        "      bmiValueDecimal = (inputArray[1][i]) / (( (inputArray[0][i]) ** 2 ))\n",
        "      bmiValue = round(bmiValueDecimal, 2)\n",
        "      new_array.append(bmiValue)\n",
        "    return new_array\n",
        "  else:\n",
        "    print(\"Wrong Input\")\n",
        "  return 0\n",
        "\n",
        "pound_weight = numpy.array([130.00,140.00,150.00,160.00,170.00,180.00,190.00])\n",
        "height = numpy.array([1.70,1.70,1.60,1.60,1.80,1.80,1.50])\n",
        "\n",
        "# turning pounds into kg\n",
        "kg_heightArray = numpy.vstack((height, pound_weight * 0.45))\n",
        "  #print(kg_heightArray)\n",
        "arrayBMI = BMI(kg_heightArray)\n",
        "for i in range(len(arrayBMI)):\n",
        "  if (arrayBMI[i] > 25):\n",
        "    print(\"Person number \", i, \" has a BMI of \", arrayBMI[i])"
      ],
      "metadata": {
        "colab": {
          "base_uri": "https://localhost:8080/"
        },
        "id": "-gUZF9602-Tq",
        "outputId": "e1c1ba2f-65ec-4bcb-bdc2-eba1ad0f8a02"
      },
      "execution_count": 40,
      "outputs": [
        {
          "output_type": "stream",
          "name": "stdout",
          "text": [
            "Person number  2  has a BMI of  26.37\n",
            "Person number  3  has a BMI of  28.12\n",
            "Person number  6  has a BMI of  38.0\n"
          ]
        }
      ]
    }
  ]
}